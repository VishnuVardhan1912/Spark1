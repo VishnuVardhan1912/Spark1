{
 "cells": [
  {
   "cell_type": "code",
   "execution_count": 1,
   "id": "d34fd589",
   "metadata": {},
   "outputs": [],
   "source": [
    "from pyspark.sql import SparkSession\n",
    "\n",
    "import findspark\n",
    "findspark.init()"
   ]
  },
  {
   "cell_type": "code",
   "execution_count": 3,
   "id": "72eae5e7",
   "metadata": {},
   "outputs": [],
   "source": [
    "spark = SparkSession.builder.getOrCreate()"
   ]
  },
  {
   "cell_type": "code",
   "execution_count": 4,
   "id": "63b84031",
   "metadata": {},
   "outputs": [],
   "source": [
    "from datetime import date"
   ]
  },
  {
   "cell_type": "code",
   "execution_count": 5,
   "id": "80b55355",
   "metadata": {},
   "outputs": [],
   "source": [
    "df = spark.createDataFrame([\n",
    "    (\"Red\", 1, \"Apple\", date(2021,1,1)),\n",
    "    (\"black\", 2, \"Grape\", date(2021,2,1)),\n",
    "    (\"Yellow\",3, \"Banana\", date(2021,3,1))\n",
    "], schema = \"color string, sr_no long, fruit string, date date\")"
   ]
  },
  {
   "cell_type": "code",
   "execution_count": 6,
   "id": "ef043b41",
   "metadata": {},
   "outputs": [
    {
     "data": {
      "text/plain": [
       "DataFrame[color: string, sr_no: bigint, fruit: string, date: date]"
      ]
     },
     "execution_count": 6,
     "metadata": {},
     "output_type": "execute_result"
    }
   ],
   "source": [
    "df"
   ]
  },
  {
   "cell_type": "code",
   "execution_count": 7,
   "id": "30e04d80",
   "metadata": {},
   "outputs": [
    {
     "name": "stdout",
     "output_type": "stream",
     "text": [
      "+------+-----+------+----------+\n",
      "| color|sr_no| fruit|      date|\n",
      "+------+-----+------+----------+\n",
      "|   Red|    1| Apple|2021-01-01|\n",
      "| black|    2| Grape|2021-02-01|\n",
      "|Yellow|    3|Banana|2021-03-01|\n",
      "+------+-----+------+----------+\n",
      "\n"
     ]
    }
   ],
   "source": [
    "df.show()"
   ]
  },
  {
   "cell_type": "code",
   "execution_count": 8,
   "id": "7127217a",
   "metadata": {},
   "outputs": [
    {
     "name": "stdout",
     "output_type": "stream",
     "text": [
      "+-----+-----+-----+----------+\n",
      "|color|sr_no|fruit|      date|\n",
      "+-----+-----+-----+----------+\n",
      "|  Red|    1|Apple|2021-01-01|\n",
      "+-----+-----+-----+----------+\n",
      "only showing top 1 row\n",
      "\n"
     ]
    }
   ],
   "source": [
    "df.show(1)"
   ]
  },
  {
   "cell_type": "code",
   "execution_count": null,
   "id": "2313f446",
   "metadata": {},
   "outputs": [],
   "source": []
  }
 ],
 "metadata": {
  "kernelspec": {
   "display_name": "Python 3",
   "language": "python",
   "name": "python3"
  },
  "language_info": {
   "codemirror_mode": {
    "name": "ipython",
    "version": 3
   },
   "file_extension": ".py",
   "mimetype": "text/x-python",
   "name": "python",
   "nbconvert_exporter": "python",
   "pygments_lexer": "ipython3",
   "version": "3.8.8"
  }
 },
 "nbformat": 4,
 "nbformat_minor": 5
}
