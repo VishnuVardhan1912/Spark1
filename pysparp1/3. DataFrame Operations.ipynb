{
 "cells": [
  {
   "cell_type": "markdown",
   "id": "fad0d3f7",
   "metadata": {},
   "source": [
    "## Data Frame Operations"
   ]
  },
  {
   "cell_type": "code",
   "execution_count": 1,
   "id": "38d03d31",
   "metadata": {},
   "outputs": [],
   "source": [
    "from pyspark.sql import SparkSession\n",
    "\n",
    "import findspark\n",
    "findspark.init()"
   ]
  },
  {
   "cell_type": "code",
   "execution_count": 2,
   "id": "ab21e3ad",
   "metadata": {},
   "outputs": [],
   "source": [
    "# Creating spark session\n",
    "\n",
    "spark = SparkSession.builder.getOrCreate()"
   ]
  },
  {
   "cell_type": "markdown",
   "id": "00b1dd76",
   "metadata": {},
   "source": [
    "## JSON File"
   ]
  },
  {
   "cell_type": "raw",
   "id": "a6d5cdb1",
   "metadata": {},
   "source": [
    "df = spark.read.json(\"sample.json\")\n",
    "df.show() --- to show the data\n",
    "df.collect() --- it returns as list of row objects\n",
    "df.take(2) --- limit the row object records\n",
    "df.printSchema() --- to print the schema of all columns\n",
    "df.count() ----  to check no of rows in a dataframe\n",
    "df.select(\"city\", \"state\").show() --- to look only 2 columns city and state\n",
    "\n",
    "# to filter based on condition\n",
    "\n",
    "df.filter(df[\"Zipcode\"]> 704).show()\n",
    "\n",
    "# Like --- it matches alphabet \n",
    "\n",
    "df.select(\"City\").filter(\"City like 'M%' \").show()\n",
    "\n",
    "# To sort based on state\n",
    "\n",
    "df.sort(\"State\").show()\\\n",
    "\n",
    "\n",
    "# For descriptive statistics\n",
    "\n",
    "df.describe().show()\n",
    "\n",
    "\n",
    "# For all column names\n",
    "\n",
    "df.columns"
   ]
  },
  {
   "cell_type": "markdown",
   "id": "91a0011d",
   "metadata": {},
   "source": [
    "## Read CSV file"
   ]
  },
  {
   "cell_type": "code",
   "execution_count": 3,
   "id": "25413934",
   "metadata": {},
   "outputs": [],
   "source": [
    "from pyspark.sql import SparkSession\n",
    "\n",
    "import findspark\n",
    "findspark.init()"
   ]
  },
  {
   "cell_type": "code",
   "execution_count": 4,
   "id": "96623e75",
   "metadata": {},
   "outputs": [],
   "source": [
    "# Creating spark session\n",
    "\n",
    "spark = SparkSession.builder.getOrCreate()"
   ]
  },
  {
   "cell_type": "code",
   "execution_count": 5,
   "id": "4f18012c",
   "metadata": {},
   "outputs": [],
   "source": [
    "df = spark.read.csv(\"iris_csv.csv\")"
   ]
  },
  {
   "cell_type": "raw",
   "id": "a1b859ab",
   "metadata": {},
   "source": [
    "# For EXcEL file\n",
    "\n",
    "df = spark.read.excel(\"sample.xls\")\n",
    "\n",
    "# To write parquet file\n",
    "\n",
    "df.write.parquet(\"df.parquet_1\")\n",
    "\n",
    "# To read parquet file\n",
    "\n",
    "parquetFile = spark.read.parquet(\"df.parquet_1\")\n",
    "\n",
    "# To read Text file\n",
    "\n",
    "df = spark.read.option(\"header\", \"true\") \\\n",
    "    .option(\"delimiter\", \"\\t\") \\\n",
    "    .option(\"inferSchema\", \"true\") \\\n",
    "    .csv(\"sample.txt\")\n",
    "\n",
    "# To write csv file\n",
    "\n",
    "df.write.csv(\"iris-flower-tutorial\", header=True)\n"
   ]
  },
  {
   "cell_type": "code",
   "execution_count": 6,
   "id": "fda8f67e",
   "metadata": {},
   "outputs": [
    {
     "name": "stdout",
     "output_type": "stream",
     "text": [
      "+------------+-----------+------------+-----------+-------+\n",
      "|         _c0|        _c1|         _c2|        _c3|    _c4|\n",
      "+------------+-----------+------------+-----------+-------+\n",
      "|sepal_length|sepal_width|petal_length|petal_width|variety|\n",
      "|         5.1|        3.5|         1.4|        0.2| Setosa|\n",
      "|         4.9|          3|         1.4|        0.2| Setosa|\n",
      "|         4.7|        3.2|         1.3|        0.2| Setosa|\n",
      "|         4.6|        3.1|         1.5|        0.2| Setosa|\n",
      "|           5|        3.6|         1.4|        0.2| Setosa|\n",
      "|         5.4|        3.9|         1.7|        0.4| Setosa|\n",
      "|         4.6|        3.4|         1.4|        0.3| Setosa|\n",
      "|           5|        3.4|         1.5|        0.2| Setosa|\n",
      "|         4.4|        2.9|         1.4|        0.2| Setosa|\n",
      "|         4.9|        3.1|         1.5|        0.1| Setosa|\n",
      "|         5.4|        3.7|         1.5|        0.2| Setosa|\n",
      "|         4.8|        3.4|         1.6|        0.2| Setosa|\n",
      "|         4.8|          3|         1.4|        0.1| Setosa|\n",
      "|         4.3|          3|         1.1|        0.1| Setosa|\n",
      "|         5.8|          4|         1.2|        0.2| Setosa|\n",
      "|         5.7|        4.4|         1.5|        0.4| Setosa|\n",
      "|         5.4|        3.9|         1.3|        0.4| Setosa|\n",
      "|         5.1|        3.5|         1.4|        0.3| Setosa|\n",
      "|         5.7|        3.8|         1.7|        0.3| Setosa|\n",
      "+------------+-----------+------------+-----------+-------+\n",
      "only showing top 20 rows\n",
      "\n"
     ]
    }
   ],
   "source": [
    "df.show()"
   ]
  },
  {
   "cell_type": "code",
   "execution_count": 7,
   "id": "9528be27",
   "metadata": {},
   "outputs": [],
   "source": [
    "df = spark.read.csv(\"iris_csv.csv\", header=True, inferSchema=True)"
   ]
  },
  {
   "cell_type": "code",
   "execution_count": 8,
   "id": "99b5d1c4",
   "metadata": {},
   "outputs": [
    {
     "name": "stdout",
     "output_type": "stream",
     "text": [
      "+------------+-----------+------------+-----------+-------+\n",
      "|sepal_length|sepal_width|petal_length|petal_width|variety|\n",
      "+------------+-----------+------------+-----------+-------+\n",
      "|         5.1|        3.5|         1.4|        0.2| Setosa|\n",
      "|         4.9|        3.0|         1.4|        0.2| Setosa|\n",
      "|         4.7|        3.2|         1.3|        0.2| Setosa|\n",
      "|         4.6|        3.1|         1.5|        0.2| Setosa|\n",
      "|         5.0|        3.6|         1.4|        0.2| Setosa|\n",
      "|         5.4|        3.9|         1.7|        0.4| Setosa|\n",
      "|         4.6|        3.4|         1.4|        0.3| Setosa|\n",
      "|         5.0|        3.4|         1.5|        0.2| Setosa|\n",
      "|         4.4|        2.9|         1.4|        0.2| Setosa|\n",
      "|         4.9|        3.1|         1.5|        0.1| Setosa|\n",
      "|         5.4|        3.7|         1.5|        0.2| Setosa|\n",
      "|         4.8|        3.4|         1.6|        0.2| Setosa|\n",
      "|         4.8|        3.0|         1.4|        0.1| Setosa|\n",
      "|         4.3|        3.0|         1.1|        0.1| Setosa|\n",
      "|         5.8|        4.0|         1.2|        0.2| Setosa|\n",
      "|         5.7|        4.4|         1.5|        0.4| Setosa|\n",
      "|         5.4|        3.9|         1.3|        0.4| Setosa|\n",
      "|         5.1|        3.5|         1.4|        0.3| Setosa|\n",
      "|         5.7|        3.8|         1.7|        0.3| Setosa|\n",
      "|         5.1|        3.8|         1.5|        0.3| Setosa|\n",
      "+------------+-----------+------------+-----------+-------+\n",
      "only showing top 20 rows\n",
      "\n"
     ]
    }
   ],
   "source": [
    "df.show()"
   ]
  },
  {
   "cell_type": "code",
   "execution_count": 9,
   "id": "6e0533dc",
   "metadata": {},
   "outputs": [
    {
     "name": "stdout",
     "output_type": "stream",
     "text": [
      "+------------+-----------+------------+-----------+-------+\n",
      "|sepal_length|sepal_width|petal_length|petal_width|variety|\n",
      "+------------+-----------+------------+-----------+-------+\n",
      "|         5.1|        3.5|         1.4|        0.2| Setosa|\n",
      "|         4.9|        3.0|         1.4|        0.2| Setosa|\n",
      "|         4.7|        3.2|         1.3|        0.2| Setosa|\n",
      "|         4.6|        3.1|         1.5|        0.2| Setosa|\n",
      "|         5.0|        3.6|         1.4|        0.2| Setosa|\n",
      "+------------+-----------+------------+-----------+-------+\n",
      "only showing top 5 rows\n",
      "\n"
     ]
    }
   ],
   "source": [
    "df.show(5)"
   ]
  },
  {
   "cell_type": "code",
   "execution_count": 10,
   "id": "5019223c",
   "metadata": {},
   "outputs": [
    {
     "data": {
      "text/plain": [
       "[Row(sepal_length=5.1, sepal_width=3.5, petal_length=1.4, petal_width=0.2, variety='Setosa'),\n",
       " Row(sepal_length=4.9, sepal_width=3.0, petal_length=1.4, petal_width=0.2, variety='Setosa'),\n",
       " Row(sepal_length=4.7, sepal_width=3.2, petal_length=1.3, petal_width=0.2, variety='Setosa'),\n",
       " Row(sepal_length=4.6, sepal_width=3.1, petal_length=1.5, petal_width=0.2, variety='Setosa'),\n",
       " Row(sepal_length=5.0, sepal_width=3.6, petal_length=1.4, petal_width=0.2, variety='Setosa'),\n",
       " Row(sepal_length=5.4, sepal_width=3.9, petal_length=1.7, petal_width=0.4, variety='Setosa'),\n",
       " Row(sepal_length=4.6, sepal_width=3.4, petal_length=1.4, petal_width=0.3, variety='Setosa'),\n",
       " Row(sepal_length=5.0, sepal_width=3.4, petal_length=1.5, petal_width=0.2, variety='Setosa'),\n",
       " Row(sepal_length=4.4, sepal_width=2.9, petal_length=1.4, petal_width=0.2, variety='Setosa'),\n",
       " Row(sepal_length=4.9, sepal_width=3.1, petal_length=1.5, petal_width=0.1, variety='Setosa'),\n",
       " Row(sepal_length=5.4, sepal_width=3.7, petal_length=1.5, petal_width=0.2, variety='Setosa'),\n",
       " Row(sepal_length=4.8, sepal_width=3.4, petal_length=1.6, petal_width=0.2, variety='Setosa'),\n",
       " Row(sepal_length=4.8, sepal_width=3.0, petal_length=1.4, petal_width=0.1, variety='Setosa'),\n",
       " Row(sepal_length=4.3, sepal_width=3.0, petal_length=1.1, petal_width=0.1, variety='Setosa'),\n",
       " Row(sepal_length=5.8, sepal_width=4.0, petal_length=1.2, petal_width=0.2, variety='Setosa'),\n",
       " Row(sepal_length=5.7, sepal_width=4.4, petal_length=1.5, petal_width=0.4, variety='Setosa'),\n",
       " Row(sepal_length=5.4, sepal_width=3.9, petal_length=1.3, petal_width=0.4, variety='Setosa'),\n",
       " Row(sepal_length=5.1, sepal_width=3.5, petal_length=1.4, petal_width=0.3, variety='Setosa'),\n",
       " Row(sepal_length=5.7, sepal_width=3.8, petal_length=1.7, petal_width=0.3, variety='Setosa'),\n",
       " Row(sepal_length=5.1, sepal_width=3.8, petal_length=1.5, petal_width=0.3, variety='Setosa'),\n",
       " Row(sepal_length=5.4, sepal_width=3.4, petal_length=1.7, petal_width=0.2, variety='Setosa'),\n",
       " Row(sepal_length=5.1, sepal_width=3.7, petal_length=1.5, petal_width=0.4, variety='Setosa'),\n",
       " Row(sepal_length=4.6, sepal_width=3.6, petal_length=1.0, petal_width=0.2, variety='Setosa'),\n",
       " Row(sepal_length=5.1, sepal_width=3.3, petal_length=1.7, petal_width=0.5, variety='Setosa'),\n",
       " Row(sepal_length=4.8, sepal_width=3.4, petal_length=1.9, petal_width=0.2, variety='Setosa'),\n",
       " Row(sepal_length=5.0, sepal_width=3.0, petal_length=1.6, petal_width=0.2, variety='Setosa'),\n",
       " Row(sepal_length=5.0, sepal_width=3.4, petal_length=1.6, petal_width=0.4, variety='Setosa'),\n",
       " Row(sepal_length=5.2, sepal_width=3.5, petal_length=1.5, petal_width=0.2, variety='Setosa'),\n",
       " Row(sepal_length=5.2, sepal_width=3.4, petal_length=1.4, petal_width=0.2, variety='Setosa'),\n",
       " Row(sepal_length=4.7, sepal_width=3.2, petal_length=1.6, petal_width=0.2, variety='Setosa'),\n",
       " Row(sepal_length=4.8, sepal_width=3.1, petal_length=1.6, petal_width=0.2, variety='Setosa'),\n",
       " Row(sepal_length=5.4, sepal_width=3.4, petal_length=1.5, petal_width=0.4, variety='Setosa'),\n",
       " Row(sepal_length=5.2, sepal_width=4.1, petal_length=1.5, petal_width=0.1, variety='Setosa'),\n",
       " Row(sepal_length=5.5, sepal_width=4.2, petal_length=1.4, petal_width=0.2, variety='Setosa'),\n",
       " Row(sepal_length=4.9, sepal_width=3.1, petal_length=1.5, petal_width=0.2, variety='Setosa'),\n",
       " Row(sepal_length=5.0, sepal_width=3.2, petal_length=1.2, petal_width=0.2, variety='Setosa'),\n",
       " Row(sepal_length=5.5, sepal_width=3.5, petal_length=1.3, petal_width=0.2, variety='Setosa'),\n",
       " Row(sepal_length=4.9, sepal_width=3.6, petal_length=1.4, petal_width=0.1, variety='Setosa'),\n",
       " Row(sepal_length=4.4, sepal_width=3.0, petal_length=1.3, petal_width=0.2, variety='Setosa'),\n",
       " Row(sepal_length=5.1, sepal_width=3.4, petal_length=1.5, petal_width=0.2, variety='Setosa'),\n",
       " Row(sepal_length=5.0, sepal_width=3.5, petal_length=1.3, petal_width=0.3, variety='Setosa'),\n",
       " Row(sepal_length=4.5, sepal_width=2.3, petal_length=1.3, petal_width=0.3, variety='Setosa'),\n",
       " Row(sepal_length=4.4, sepal_width=3.2, petal_length=1.3, petal_width=0.2, variety='Setosa'),\n",
       " Row(sepal_length=5.0, sepal_width=3.5, petal_length=1.6, petal_width=0.6, variety='Setosa'),\n",
       " Row(sepal_length=5.1, sepal_width=3.8, petal_length=1.9, petal_width=0.4, variety='Setosa'),\n",
       " Row(sepal_length=4.8, sepal_width=3.0, petal_length=1.4, petal_width=0.3, variety='Setosa'),\n",
       " Row(sepal_length=5.1, sepal_width=3.8, petal_length=1.6, petal_width=0.2, variety='Setosa'),\n",
       " Row(sepal_length=4.6, sepal_width=3.2, petal_length=1.4, petal_width=0.2, variety='Setosa'),\n",
       " Row(sepal_length=5.3, sepal_width=3.7, petal_length=1.5, petal_width=0.2, variety='Setosa'),\n",
       " Row(sepal_length=5.0, sepal_width=3.3, petal_length=1.4, petal_width=0.2, variety='Setosa'),\n",
       " Row(sepal_length=7.0, sepal_width=3.2, petal_length=4.7, petal_width=1.4, variety='Versicolor'),\n",
       " Row(sepal_length=6.4, sepal_width=3.2, petal_length=4.5, petal_width=1.5, variety='Versicolor'),\n",
       " Row(sepal_length=6.9, sepal_width=3.1, petal_length=4.9, petal_width=1.5, variety='Versicolor'),\n",
       " Row(sepal_length=5.5, sepal_width=2.3, petal_length=4.0, petal_width=1.3, variety='Versicolor'),\n",
       " Row(sepal_length=6.5, sepal_width=2.8, petal_length=4.6, petal_width=1.5, variety='Versicolor'),\n",
       " Row(sepal_length=5.7, sepal_width=2.8, petal_length=4.5, petal_width=1.3, variety='Versicolor'),\n",
       " Row(sepal_length=6.3, sepal_width=3.3, petal_length=4.7, petal_width=1.6, variety='Versicolor'),\n",
       " Row(sepal_length=4.9, sepal_width=2.4, petal_length=3.3, petal_width=1.0, variety='Versicolor'),\n",
       " Row(sepal_length=6.6, sepal_width=2.9, petal_length=4.6, petal_width=1.3, variety='Versicolor'),\n",
       " Row(sepal_length=5.2, sepal_width=2.7, petal_length=3.9, petal_width=1.4, variety='Versicolor'),\n",
       " Row(sepal_length=5.0, sepal_width=2.0, petal_length=3.5, petal_width=1.0, variety='Versicolor'),\n",
       " Row(sepal_length=5.9, sepal_width=3.0, petal_length=4.2, petal_width=1.5, variety='Versicolor'),\n",
       " Row(sepal_length=6.0, sepal_width=2.2, petal_length=4.0, petal_width=1.0, variety='Versicolor'),\n",
       " Row(sepal_length=6.1, sepal_width=2.9, petal_length=4.7, petal_width=1.4, variety='Versicolor'),\n",
       " Row(sepal_length=5.6, sepal_width=2.9, petal_length=3.6, petal_width=1.3, variety='Versicolor'),\n",
       " Row(sepal_length=6.7, sepal_width=3.1, petal_length=4.4, petal_width=1.4, variety='Versicolor'),\n",
       " Row(sepal_length=5.6, sepal_width=3.0, petal_length=4.5, petal_width=1.5, variety='Versicolor'),\n",
       " Row(sepal_length=5.8, sepal_width=2.7, petal_length=4.1, petal_width=1.0, variety='Versicolor'),\n",
       " Row(sepal_length=6.2, sepal_width=2.2, petal_length=4.5, petal_width=1.5, variety='Versicolor'),\n",
       " Row(sepal_length=5.6, sepal_width=2.5, petal_length=3.9, petal_width=1.1, variety='Versicolor'),\n",
       " Row(sepal_length=5.9, sepal_width=3.2, petal_length=4.8, petal_width=1.8, variety='Versicolor'),\n",
       " Row(sepal_length=6.1, sepal_width=2.8, petal_length=4.0, petal_width=1.3, variety='Versicolor'),\n",
       " Row(sepal_length=6.3, sepal_width=2.5, petal_length=4.9, petal_width=1.5, variety='Versicolor'),\n",
       " Row(sepal_length=6.1, sepal_width=2.8, petal_length=4.7, petal_width=1.2, variety='Versicolor'),\n",
       " Row(sepal_length=6.4, sepal_width=2.9, petal_length=4.3, petal_width=1.3, variety='Versicolor'),\n",
       " Row(sepal_length=6.6, sepal_width=3.0, petal_length=4.4, petal_width=1.4, variety='Versicolor'),\n",
       " Row(sepal_length=6.8, sepal_width=2.8, petal_length=4.8, petal_width=1.4, variety='Versicolor'),\n",
       " Row(sepal_length=6.7, sepal_width=3.0, petal_length=5.0, petal_width=1.7, variety='Versicolor'),\n",
       " Row(sepal_length=6.0, sepal_width=2.9, petal_length=4.5, petal_width=1.5, variety='Versicolor'),\n",
       " Row(sepal_length=5.7, sepal_width=2.6, petal_length=3.5, petal_width=1.0, variety='Versicolor'),\n",
       " Row(sepal_length=5.5, sepal_width=2.4, petal_length=3.8, petal_width=1.1, variety='Versicolor'),\n",
       " Row(sepal_length=5.5, sepal_width=2.4, petal_length=3.7, petal_width=1.0, variety='Versicolor'),\n",
       " Row(sepal_length=5.8, sepal_width=2.7, petal_length=3.9, petal_width=1.2, variety='Versicolor'),\n",
       " Row(sepal_length=6.0, sepal_width=2.7, petal_length=5.1, petal_width=1.6, variety='Versicolor'),\n",
       " Row(sepal_length=5.4, sepal_width=3.0, petal_length=4.5, petal_width=1.5, variety='Versicolor'),\n",
       " Row(sepal_length=6.0, sepal_width=3.4, petal_length=4.5, petal_width=1.6, variety='Versicolor'),\n",
       " Row(sepal_length=6.7, sepal_width=3.1, petal_length=4.7, petal_width=1.5, variety='Versicolor'),\n",
       " Row(sepal_length=6.3, sepal_width=2.3, petal_length=4.4, petal_width=1.3, variety='Versicolor'),\n",
       " Row(sepal_length=5.6, sepal_width=3.0, petal_length=4.1, petal_width=1.3, variety='Versicolor'),\n",
       " Row(sepal_length=5.5, sepal_width=2.5, petal_length=4.0, petal_width=1.3, variety='Versicolor'),\n",
       " Row(sepal_length=5.5, sepal_width=2.6, petal_length=4.4, petal_width=1.2, variety='Versicolor'),\n",
       " Row(sepal_length=6.1, sepal_width=3.0, petal_length=4.6, petal_width=1.4, variety='Versicolor'),\n",
       " Row(sepal_length=5.8, sepal_width=2.6, petal_length=4.0, petal_width=1.2, variety='Versicolor'),\n",
       " Row(sepal_length=5.0, sepal_width=2.3, petal_length=3.3, petal_width=1.0, variety='Versicolor'),\n",
       " Row(sepal_length=5.6, sepal_width=2.7, petal_length=4.2, petal_width=1.3, variety='Versicolor'),\n",
       " Row(sepal_length=5.7, sepal_width=3.0, petal_length=4.2, petal_width=1.2, variety='Versicolor'),\n",
       " Row(sepal_length=5.7, sepal_width=2.9, petal_length=4.2, petal_width=1.3, variety='Versicolor'),\n",
       " Row(sepal_length=6.2, sepal_width=2.9, petal_length=4.3, petal_width=1.3, variety='Versicolor'),\n",
       " Row(sepal_length=5.1, sepal_width=2.5, petal_length=3.0, petal_width=1.1, variety='Versicolor'),\n",
       " Row(sepal_length=5.7, sepal_width=2.8, petal_length=4.1, petal_width=1.3, variety='Versicolor'),\n",
       " Row(sepal_length=6.3, sepal_width=3.3, petal_length=6.0, petal_width=2.5, variety='Virginica'),\n",
       " Row(sepal_length=5.8, sepal_width=2.7, petal_length=5.1, petal_width=1.9, variety='Virginica'),\n",
       " Row(sepal_length=7.1, sepal_width=3.0, petal_length=5.9, petal_width=2.1, variety='Virginica'),\n",
       " Row(sepal_length=6.3, sepal_width=2.9, petal_length=5.6, petal_width=1.8, variety='Virginica'),\n",
       " Row(sepal_length=6.5, sepal_width=3.0, petal_length=5.8, petal_width=2.2, variety='Virginica'),\n",
       " Row(sepal_length=7.6, sepal_width=3.0, petal_length=6.6, petal_width=2.1, variety='Virginica'),\n",
       " Row(sepal_length=4.9, sepal_width=2.5, petal_length=4.5, petal_width=1.7, variety='Virginica'),\n",
       " Row(sepal_length=7.3, sepal_width=2.9, petal_length=6.3, petal_width=1.8, variety='Virginica'),\n",
       " Row(sepal_length=6.7, sepal_width=2.5, petal_length=5.8, petal_width=1.8, variety='Virginica'),\n",
       " Row(sepal_length=7.2, sepal_width=3.6, petal_length=6.1, petal_width=2.5, variety='Virginica'),\n",
       " Row(sepal_length=6.5, sepal_width=3.2, petal_length=5.1, petal_width=2.0, variety='Virginica'),\n",
       " Row(sepal_length=6.4, sepal_width=2.7, petal_length=5.3, petal_width=1.9, variety='Virginica'),\n",
       " Row(sepal_length=6.8, sepal_width=3.0, petal_length=5.5, petal_width=2.1, variety='Virginica'),\n",
       " Row(sepal_length=5.7, sepal_width=2.5, petal_length=5.0, petal_width=2.0, variety='Virginica'),\n",
       " Row(sepal_length=5.8, sepal_width=2.8, petal_length=5.1, petal_width=2.4, variety='Virginica'),\n",
       " Row(sepal_length=6.4, sepal_width=3.2, petal_length=5.3, petal_width=2.3, variety='Virginica'),\n",
       " Row(sepal_length=6.5, sepal_width=3.0, petal_length=5.5, petal_width=1.8, variety='Virginica'),\n",
       " Row(sepal_length=7.7, sepal_width=3.8, petal_length=6.7, petal_width=2.2, variety='Virginica'),\n",
       " Row(sepal_length=7.7, sepal_width=2.6, petal_length=6.9, petal_width=2.3, variety='Virginica'),\n",
       " Row(sepal_length=6.0, sepal_width=2.2, petal_length=5.0, petal_width=1.5, variety='Virginica'),\n",
       " Row(sepal_length=6.9, sepal_width=3.2, petal_length=5.7, petal_width=2.3, variety='Virginica'),\n",
       " Row(sepal_length=5.6, sepal_width=2.8, petal_length=4.9, petal_width=2.0, variety='Virginica'),\n",
       " Row(sepal_length=7.7, sepal_width=2.8, petal_length=6.7, petal_width=2.0, variety='Virginica'),\n",
       " Row(sepal_length=6.3, sepal_width=2.7, petal_length=4.9, petal_width=1.8, variety='Virginica'),\n",
       " Row(sepal_length=6.7, sepal_width=3.3, petal_length=5.7, petal_width=2.1, variety='Virginica'),\n",
       " Row(sepal_length=7.2, sepal_width=3.2, petal_length=6.0, petal_width=1.8, variety='Virginica'),\n",
       " Row(sepal_length=6.2, sepal_width=2.8, petal_length=4.8, petal_width=1.8, variety='Virginica'),\n",
       " Row(sepal_length=6.1, sepal_width=3.0, petal_length=4.9, petal_width=1.8, variety='Virginica'),\n",
       " Row(sepal_length=6.4, sepal_width=2.8, petal_length=5.6, petal_width=2.1, variety='Virginica'),\n",
       " Row(sepal_length=7.2, sepal_width=3.0, petal_length=5.8, petal_width=1.6, variety='Virginica'),\n",
       " Row(sepal_length=7.4, sepal_width=2.8, petal_length=6.1, petal_width=1.9, variety='Virginica'),\n",
       " Row(sepal_length=7.9, sepal_width=3.8, petal_length=6.4, petal_width=2.0, variety='Virginica'),\n",
       " Row(sepal_length=6.4, sepal_width=2.8, petal_length=5.6, petal_width=2.2, variety='Virginica'),\n",
       " Row(sepal_length=6.3, sepal_width=2.8, petal_length=5.1, petal_width=1.5, variety='Virginica'),\n",
       " Row(sepal_length=6.1, sepal_width=2.6, petal_length=5.6, petal_width=1.4, variety='Virginica'),\n",
       " Row(sepal_length=7.7, sepal_width=3.0, petal_length=6.1, petal_width=2.3, variety='Virginica'),\n",
       " Row(sepal_length=6.3, sepal_width=3.4, petal_length=5.6, petal_width=2.4, variety='Virginica'),\n",
       " Row(sepal_length=6.4, sepal_width=3.1, petal_length=5.5, petal_width=1.8, variety='Virginica'),\n",
       " Row(sepal_length=6.0, sepal_width=3.0, petal_length=4.8, petal_width=1.8, variety='Virginica'),\n",
       " Row(sepal_length=6.9, sepal_width=3.1, petal_length=5.4, petal_width=2.1, variety='Virginica'),\n",
       " Row(sepal_length=6.7, sepal_width=3.1, petal_length=5.6, petal_width=2.4, variety='Virginica'),\n",
       " Row(sepal_length=6.9, sepal_width=3.1, petal_length=5.1, petal_width=2.3, variety='Virginica'),\n",
       " Row(sepal_length=5.8, sepal_width=2.7, petal_length=5.1, petal_width=1.9, variety='Virginica'),\n",
       " Row(sepal_length=6.8, sepal_width=3.2, petal_length=5.9, petal_width=2.3, variety='Virginica'),\n",
       " Row(sepal_length=6.7, sepal_width=3.3, petal_length=5.7, petal_width=2.5, variety='Virginica'),\n",
       " Row(sepal_length=6.7, sepal_width=3.0, petal_length=5.2, petal_width=2.3, variety='Virginica'),\n",
       " Row(sepal_length=6.3, sepal_width=2.5, petal_length=5.0, petal_width=1.9, variety='Virginica'),\n",
       " Row(sepal_length=6.5, sepal_width=3.0, petal_length=5.2, petal_width=2.0, variety='Virginica'),\n",
       " Row(sepal_length=6.2, sepal_width=3.4, petal_length=5.4, petal_width=2.3, variety='Virginica'),\n",
       " Row(sepal_length=5.9, sepal_width=3.0, petal_length=5.1, petal_width=1.8, variety='Virginica')]"
      ]
     },
     "execution_count": 10,
     "metadata": {},
     "output_type": "execute_result"
    }
   ],
   "source": [
    "df.collect()"
   ]
  },
  {
   "cell_type": "code",
   "execution_count": 11,
   "id": "68125bdc",
   "metadata": {},
   "outputs": [
    {
     "data": {
      "text/plain": [
       "[Row(sepal_length=5.1, sepal_width=3.5, petal_length=1.4, petal_width=0.2, variety='Setosa'),\n",
       " Row(sepal_length=4.9, sepal_width=3.0, petal_length=1.4, petal_width=0.2, variety='Setosa')]"
      ]
     },
     "execution_count": 11,
     "metadata": {},
     "output_type": "execute_result"
    }
   ],
   "source": [
    "df.take(2)"
   ]
  },
  {
   "cell_type": "code",
   "execution_count": 12,
   "id": "bcaeefbb",
   "metadata": {},
   "outputs": [
    {
     "data": {
      "text/plain": [
       "150"
      ]
     },
     "execution_count": 12,
     "metadata": {},
     "output_type": "execute_result"
    }
   ],
   "source": [
    "df.count()"
   ]
  },
  {
   "cell_type": "code",
   "execution_count": 13,
   "id": "21e17d09",
   "metadata": {},
   "outputs": [
    {
     "name": "stdout",
     "output_type": "stream",
     "text": [
      "root\n",
      " |-- sepal_length: double (nullable = true)\n",
      " |-- sepal_width: double (nullable = true)\n",
      " |-- petal_length: double (nullable = true)\n",
      " |-- petal_width: double (nullable = true)\n",
      " |-- variety: string (nullable = true)\n",
      "\n"
     ]
    }
   ],
   "source": [
    "df.printSchema()"
   ]
  },
  {
   "cell_type": "code",
   "execution_count": 14,
   "id": "2afb76dc",
   "metadata": {},
   "outputs": [
    {
     "name": "stdout",
     "output_type": "stream",
     "text": [
      "+------------+-------+\n",
      "|sepal_length|variety|\n",
      "+------------+-------+\n",
      "|         5.1| Setosa|\n",
      "|         4.9| Setosa|\n",
      "|         4.7| Setosa|\n",
      "|         4.6| Setosa|\n",
      "|         5.0| Setosa|\n",
      "|         5.4| Setosa|\n",
      "|         4.6| Setosa|\n",
      "|         5.0| Setosa|\n",
      "|         4.4| Setosa|\n",
      "|         4.9| Setosa|\n",
      "+------------+-------+\n",
      "only showing top 10 rows\n",
      "\n"
     ]
    }
   ],
   "source": [
    "df.select(\"sepal_length\", \"variety\").show(10)"
   ]
  },
  {
   "cell_type": "code",
   "execution_count": 15,
   "id": "a766fe23",
   "metadata": {},
   "outputs": [
    {
     "name": "stdout",
     "output_type": "stream",
     "text": [
      "+------------+\n",
      "|sepal_length|\n",
      "+------------+\n",
      "|         5.1|\n",
      "|         4.9|\n",
      "|         4.7|\n",
      "|         4.6|\n",
      "|         5.0|\n",
      "+------------+\n",
      "only showing top 5 rows\n",
      "\n"
     ]
    }
   ],
   "source": [
    "df.select(\"sepal_length\").show(5)"
   ]
  },
  {
   "cell_type": "code",
   "execution_count": 16,
   "id": "b2530a72",
   "metadata": {},
   "outputs": [
    {
     "ename": "AnalysisException",
     "evalue": "Cannot resolve column name \"Zipcode\" among (sepal_length, sepal_width, petal_length, petal_width, variety)",
     "output_type": "error",
     "traceback": [
      "\u001b[1;31m---------------------------------------------------------------------------\u001b[0m",
      "\u001b[1;31mAnalysisException\u001b[0m                         Traceback (most recent call last)",
      "\u001b[1;32m<ipython-input-16-bbcd2d74c26a>\u001b[0m in \u001b[0;36m<module>\u001b[1;34m\u001b[0m\n\u001b[0;32m      1\u001b[0m \u001b[1;31m# to filter based on condition\u001b[0m\u001b[1;33m\u001b[0m\u001b[1;33m\u001b[0m\u001b[1;33m\u001b[0m\u001b[0m\n\u001b[0;32m      2\u001b[0m \u001b[1;33m\u001b[0m\u001b[0m\n\u001b[1;32m----> 3\u001b[1;33m \u001b[0mdf\u001b[0m\u001b[1;33m.\u001b[0m\u001b[0mfilter\u001b[0m\u001b[1;33m(\u001b[0m\u001b[0mdf\u001b[0m\u001b[1;33m[\u001b[0m\u001b[1;34m\"Zipcode\"\u001b[0m\u001b[1;33m]\u001b[0m\u001b[1;33m>\u001b[0m \u001b[1;36m704\u001b[0m\u001b[1;33m)\u001b[0m\u001b[1;33m.\u001b[0m\u001b[0mshow\u001b[0m\u001b[1;33m(\u001b[0m\u001b[1;33m)\u001b[0m\u001b[1;33m\u001b[0m\u001b[1;33m\u001b[0m\u001b[0m\n\u001b[0m\u001b[0;32m      4\u001b[0m \u001b[1;33m\u001b[0m\u001b[0m\n\u001b[0;32m      5\u001b[0m \u001b[1;31m# Like --- it matches alphabet\u001b[0m\u001b[1;33m\u001b[0m\u001b[1;33m\u001b[0m\u001b[1;33m\u001b[0m\u001b[0m\n",
      "\u001b[1;32m~\\anaconda3\\lib\\site-packages\\pyspark\\sql\\dataframe.py\u001b[0m in \u001b[0;36m__getitem__\u001b[1;34m(self, item)\u001b[0m\n\u001b[0;32m   1963\u001b[0m         \"\"\"\n\u001b[0;32m   1964\u001b[0m         \u001b[1;32mif\u001b[0m \u001b[0misinstance\u001b[0m\u001b[1;33m(\u001b[0m\u001b[0mitem\u001b[0m\u001b[1;33m,\u001b[0m \u001b[0mstr\u001b[0m\u001b[1;33m)\u001b[0m\u001b[1;33m:\u001b[0m\u001b[1;33m\u001b[0m\u001b[1;33m\u001b[0m\u001b[0m\n\u001b[1;32m-> 1965\u001b[1;33m             \u001b[0mjc\u001b[0m \u001b[1;33m=\u001b[0m \u001b[0mself\u001b[0m\u001b[1;33m.\u001b[0m\u001b[0m_jdf\u001b[0m\u001b[1;33m.\u001b[0m\u001b[0mapply\u001b[0m\u001b[1;33m(\u001b[0m\u001b[0mitem\u001b[0m\u001b[1;33m)\u001b[0m\u001b[1;33m\u001b[0m\u001b[1;33m\u001b[0m\u001b[0m\n\u001b[0m\u001b[0;32m   1966\u001b[0m             \u001b[1;32mreturn\u001b[0m \u001b[0mColumn\u001b[0m\u001b[1;33m(\u001b[0m\u001b[0mjc\u001b[0m\u001b[1;33m)\u001b[0m\u001b[1;33m\u001b[0m\u001b[1;33m\u001b[0m\u001b[0m\n\u001b[0;32m   1967\u001b[0m         \u001b[1;32melif\u001b[0m \u001b[0misinstance\u001b[0m\u001b[1;33m(\u001b[0m\u001b[0mitem\u001b[0m\u001b[1;33m,\u001b[0m \u001b[0mColumn\u001b[0m\u001b[1;33m)\u001b[0m\u001b[1;33m:\u001b[0m\u001b[1;33m\u001b[0m\u001b[1;33m\u001b[0m\u001b[0m\n",
      "\u001b[1;32m~\\anaconda3\\lib\\site-packages\\py4j\\java_gateway.py\u001b[0m in \u001b[0;36m__call__\u001b[1;34m(self, *args)\u001b[0m\n\u001b[0;32m   1319\u001b[0m \u001b[1;33m\u001b[0m\u001b[0m\n\u001b[0;32m   1320\u001b[0m         \u001b[0manswer\u001b[0m \u001b[1;33m=\u001b[0m \u001b[0mself\u001b[0m\u001b[1;33m.\u001b[0m\u001b[0mgateway_client\u001b[0m\u001b[1;33m.\u001b[0m\u001b[0msend_command\u001b[0m\u001b[1;33m(\u001b[0m\u001b[0mcommand\u001b[0m\u001b[1;33m)\u001b[0m\u001b[1;33m\u001b[0m\u001b[1;33m\u001b[0m\u001b[0m\n\u001b[1;32m-> 1321\u001b[1;33m         return_value = get_return_value(\n\u001b[0m\u001b[0;32m   1322\u001b[0m             answer, self.gateway_client, self.target_id, self.name)\n\u001b[0;32m   1323\u001b[0m \u001b[1;33m\u001b[0m\u001b[0m\n",
      "\u001b[1;32m~\\anaconda3\\lib\\site-packages\\pyspark\\sql\\utils.py\u001b[0m in \u001b[0;36mdeco\u001b[1;34m(*a, **kw)\u001b[0m\n\u001b[0;32m    194\u001b[0m                 \u001b[1;31m# Hide where the exception came from that shows a non-Pythonic\u001b[0m\u001b[1;33m\u001b[0m\u001b[1;33m\u001b[0m\u001b[1;33m\u001b[0m\u001b[0m\n\u001b[0;32m    195\u001b[0m                 \u001b[1;31m# JVM exception message.\u001b[0m\u001b[1;33m\u001b[0m\u001b[1;33m\u001b[0m\u001b[1;33m\u001b[0m\u001b[0m\n\u001b[1;32m--> 196\u001b[1;33m                 \u001b[1;32mraise\u001b[0m \u001b[0mconverted\u001b[0m \u001b[1;32mfrom\u001b[0m \u001b[1;32mNone\u001b[0m\u001b[1;33m\u001b[0m\u001b[1;33m\u001b[0m\u001b[0m\n\u001b[0m\u001b[0;32m    197\u001b[0m             \u001b[1;32melse\u001b[0m\u001b[1;33m:\u001b[0m\u001b[1;33m\u001b[0m\u001b[1;33m\u001b[0m\u001b[0m\n\u001b[0;32m    198\u001b[0m                 \u001b[1;32mraise\u001b[0m\u001b[1;33m\u001b[0m\u001b[1;33m\u001b[0m\u001b[0m\n",
      "\u001b[1;31mAnalysisException\u001b[0m: Cannot resolve column name \"Zipcode\" among (sepal_length, sepal_width, petal_length, petal_width, variety)"
     ]
    }
   ],
   "source": [
    "# to filter based on condition\n",
    "\n",
    "df.filter(df[\"Zipcode\"]> 704).show()\n",
    "\n",
    "# Like --- it matches alphabet \n",
    "\n",
    "df.select(\"City\").filter(\"City like 'M%' \").show()\n",
    "\n",
    "# To sort based on state\n",
    "\n",
    "df.sort(\"State\").show()\n",
    "\n",
    "\n",
    "# For descriptive statistics\n",
    "\n",
    "df.describe().show()\n",
    "\n",
    "\n",
    "# For all column names\n",
    "\n",
    "df.columns"
   ]
  },
  {
   "cell_type": "code",
   "execution_count": 17,
   "id": "cc8cb2a2",
   "metadata": {},
   "outputs": [
    {
     "name": "stdout",
     "output_type": "stream",
     "text": [
      "+------------+-----------+------------+-----------+-------+\n",
      "|sepal_length|sepal_width|petal_length|petal_width|variety|\n",
      "+------------+-----------+------------+-----------+-------+\n",
      "|         5.1|        3.5|         1.4|        0.2| Setosa|\n",
      "|         5.4|        3.9|         1.7|        0.4| Setosa|\n",
      "|         5.4|        3.7|         1.5|        0.2| Setosa|\n",
      "|         5.8|        4.0|         1.2|        0.2| Setosa|\n",
      "|         5.7|        4.4|         1.5|        0.4| Setosa|\n",
      "|         5.4|        3.9|         1.3|        0.4| Setosa|\n",
      "|         5.1|        3.5|         1.4|        0.3| Setosa|\n",
      "|         5.7|        3.8|         1.7|        0.3| Setosa|\n",
      "|         5.1|        3.8|         1.5|        0.3| Setosa|\n",
      "|         5.4|        3.4|         1.7|        0.2| Setosa|\n",
      "|         5.1|        3.7|         1.5|        0.4| Setosa|\n",
      "|         5.1|        3.3|         1.7|        0.5| Setosa|\n",
      "|         5.2|        3.5|         1.5|        0.2| Setosa|\n",
      "|         5.2|        3.4|         1.4|        0.2| Setosa|\n",
      "|         5.4|        3.4|         1.5|        0.4| Setosa|\n",
      "|         5.2|        4.1|         1.5|        0.1| Setosa|\n",
      "|         5.5|        4.2|         1.4|        0.2| Setosa|\n",
      "|         5.5|        3.5|         1.3|        0.2| Setosa|\n",
      "|         5.1|        3.4|         1.5|        0.2| Setosa|\n",
      "|         5.1|        3.8|         1.9|        0.4| Setosa|\n",
      "+------------+-----------+------------+-----------+-------+\n",
      "only showing top 20 rows\n",
      "\n"
     ]
    }
   ],
   "source": [
    "# to filter based on condition\n",
    "\n",
    "df.filter(df[\"sepal_length\"]> 5).show()"
   ]
  },
  {
   "cell_type": "code",
   "execution_count": 18,
   "id": "dd038490",
   "metadata": {},
   "outputs": [
    {
     "name": "stdout",
     "output_type": "stream",
     "text": [
      "+-------+\n",
      "|variety|\n",
      "+-------+\n",
      "| Setosa|\n",
      "| Setosa|\n",
      "| Setosa|\n",
      "| Setosa|\n",
      "| Setosa|\n",
      "| Setosa|\n",
      "| Setosa|\n",
      "| Setosa|\n",
      "| Setosa|\n",
      "| Setosa|\n",
      "| Setosa|\n",
      "| Setosa|\n",
      "| Setosa|\n",
      "| Setosa|\n",
      "| Setosa|\n",
      "| Setosa|\n",
      "| Setosa|\n",
      "| Setosa|\n",
      "| Setosa|\n",
      "| Setosa|\n",
      "+-------+\n",
      "only showing top 20 rows\n",
      "\n"
     ]
    }
   ],
   "source": [
    "# Like --- it matches alphabet \n",
    "\n",
    "df.select(\"variety\").filter(\"variety like 'Set%' \").show()"
   ]
  },
  {
   "cell_type": "code",
   "execution_count": 19,
   "id": "84735ee6",
   "metadata": {},
   "outputs": [
    {
     "name": "stdout",
     "output_type": "stream",
     "text": [
      "+------------+-----------+------------+-----------+-------+\n",
      "|sepal_length|sepal_width|petal_length|petal_width|variety|\n",
      "+------------+-----------+------------+-----------+-------+\n",
      "|         5.1|        3.5|         1.4|        0.2| Setosa|\n",
      "|         4.9|        3.0|         1.4|        0.2| Setosa|\n",
      "|         4.7|        3.2|         1.3|        0.2| Setosa|\n",
      "|         4.6|        3.1|         1.5|        0.2| Setosa|\n",
      "|         5.0|        3.6|         1.4|        0.2| Setosa|\n",
      "|         5.4|        3.9|         1.7|        0.4| Setosa|\n",
      "|         4.6|        3.4|         1.4|        0.3| Setosa|\n",
      "|         5.0|        3.4|         1.5|        0.2| Setosa|\n",
      "|         4.4|        2.9|         1.4|        0.2| Setosa|\n",
      "|         4.9|        3.1|         1.5|        0.1| Setosa|\n",
      "+------------+-----------+------------+-----------+-------+\n",
      "only showing top 10 rows\n",
      "\n"
     ]
    }
   ],
   "source": [
    "df.show(10)"
   ]
  },
  {
   "cell_type": "code",
   "execution_count": 20,
   "id": "97903f66",
   "metadata": {},
   "outputs": [
    {
     "name": "stdout",
     "output_type": "stream",
     "text": [
      "+------------+-----------+------------+-----------+-------+\n",
      "|sepal_length|sepal_width|petal_length|petal_width|variety|\n",
      "+------------+-----------+------------+-----------+-------+\n",
      "|         4.3|        3.0|         1.1|        0.1| Setosa|\n",
      "|         4.4|        3.0|         1.3|        0.2| Setosa|\n",
      "|         4.4|        2.9|         1.4|        0.2| Setosa|\n",
      "|         4.4|        3.2|         1.3|        0.2| Setosa|\n",
      "|         4.5|        2.3|         1.3|        0.3| Setosa|\n",
      "|         4.6|        3.1|         1.5|        0.2| Setosa|\n",
      "|         4.6|        3.6|         1.0|        0.2| Setosa|\n",
      "|         4.6|        3.2|         1.4|        0.2| Setosa|\n",
      "|         4.6|        3.4|         1.4|        0.3| Setosa|\n",
      "|         4.7|        3.2|         1.3|        0.2| Setosa|\n",
      "|         4.7|        3.2|         1.6|        0.2| Setosa|\n",
      "|         4.8|        3.0|         1.4|        0.1| Setosa|\n",
      "|         4.8|        3.1|         1.6|        0.2| Setosa|\n",
      "|         4.8|        3.4|         1.9|        0.2| Setosa|\n",
      "|         4.8|        3.4|         1.6|        0.2| Setosa|\n",
      "|         4.8|        3.0|         1.4|        0.3| Setosa|\n",
      "|         4.9|        3.1|         1.5|        0.2| Setosa|\n",
      "|         4.9|        3.1|         1.5|        0.1| Setosa|\n",
      "|         4.9|        3.6|         1.4|        0.1| Setosa|\n",
      "|         4.9|        3.0|         1.4|        0.2| Setosa|\n",
      "+------------+-----------+------------+-----------+-------+\n",
      "only showing top 20 rows\n",
      "\n"
     ]
    }
   ],
   "source": [
    "# To sort based on state\n",
    "\n",
    "df.sort(\"sepal_length\").show()"
   ]
  },
  {
   "cell_type": "code",
   "execution_count": 21,
   "id": "1e15a427",
   "metadata": {},
   "outputs": [
    {
     "name": "stdout",
     "output_type": "stream",
     "text": [
      "+-------+------------------+-------------------+------------------+------------------+---------+\n",
      "|summary|      sepal_length|        sepal_width|      petal_length|       petal_width|  variety|\n",
      "+-------+------------------+-------------------+------------------+------------------+---------+\n",
      "|  count|               150|                150|               150|               150|      150|\n",
      "|   mean| 5.843333333333335|  3.057333333333334|3.7580000000000027| 1.199333333333334|     null|\n",
      "| stddev|0.8280661279778637|0.43586628493669793|1.7652982332594662|0.7622376689603467|     null|\n",
      "|    min|               4.3|                2.0|               1.0|               0.1|   Setosa|\n",
      "|    max|               7.9|                4.4|               6.9|               2.5|Virginica|\n",
      "+-------+------------------+-------------------+------------------+------------------+---------+\n",
      "\n"
     ]
    }
   ],
   "source": [
    "# For descriptive statistics\n",
    "\n",
    "df.describe().show()"
   ]
  },
  {
   "cell_type": "code",
   "execution_count": 22,
   "id": "f0bfe2d4",
   "metadata": {},
   "outputs": [
    {
     "data": {
      "text/plain": [
       "['sepal_length', 'sepal_width', 'petal_length', 'petal_width', 'variety']"
      ]
     },
     "execution_count": 22,
     "metadata": {},
     "output_type": "execute_result"
    }
   ],
   "source": [
    "# For all column names\n",
    "\n",
    "df.columns"
   ]
  },
  {
   "cell_type": "markdown",
   "id": "4650c172",
   "metadata": {},
   "source": [
    "## CSV file from Github"
   ]
  },
  {
   "cell_type": "code",
   "execution_count": 23,
   "id": "70c04b18",
   "metadata": {},
   "outputs": [],
   "source": [
    "url = \"https://gist.githubusercontent.com/netj/8836201/raw/6f9306ad21398ea43cba4f7d537619d0e07d5ae3/iris.csv\""
   ]
  },
  {
   "cell_type": "code",
   "execution_count": 24,
   "id": "6e3d146b",
   "metadata": {},
   "outputs": [
    {
     "data": {
      "text/plain": [
       "'https://gist.githubusercontent.com/netj/8836201/raw/6f9306ad21398ea43cba4f7d537619d0e07d5ae3/iris.csv'"
      ]
     },
     "execution_count": 24,
     "metadata": {},
     "output_type": "execute_result"
    }
   ],
   "source": [
    "url"
   ]
  },
  {
   "cell_type": "code",
   "execution_count": 25,
   "id": "0272d701",
   "metadata": {},
   "outputs": [],
   "source": [
    "from pyspark.sql import SparkSession\n",
    "from pyspark import SparkFiles\n",
    "\n",
    "import findspark\n",
    "findspark.init()\n",
    "\n",
    "spark = SparkSession.builder.getOrCreate()"
   ]
  },
  {
   "cell_type": "code",
   "execution_count": 28,
   "id": "e6162907",
   "metadata": {},
   "outputs": [],
   "source": [
    "# spark.sparkContext.addFile(url)\n"
   ]
  },
  {
   "cell_type": "code",
   "execution_count": 29,
   "id": "6c8fdf54",
   "metadata": {},
   "outputs": [],
   "source": [
    "# df = spark.read.csv(SparkFiles.get('iris.csv'), inferSchema=True, header=True)"
   ]
  },
  {
   "cell_type": "code",
   "execution_count": null,
   "id": "840f602d",
   "metadata": {},
   "outputs": [],
   "source": []
  },
  {
   "cell_type": "code",
   "execution_count": null,
   "id": "b986af07",
   "metadata": {},
   "outputs": [],
   "source": []
  }
 ],
 "metadata": {
  "kernelspec": {
   "display_name": "Python 3",
   "language": "python",
   "name": "python3"
  },
  "language_info": {
   "codemirror_mode": {
    "name": "ipython",
    "version": 3
   },
   "file_extension": ".py",
   "mimetype": "text/x-python",
   "name": "python",
   "nbconvert_exporter": "python",
   "pygments_lexer": "ipython3",
   "version": "3.8.8"
  }
 },
 "nbformat": 4,
 "nbformat_minor": 5
}
