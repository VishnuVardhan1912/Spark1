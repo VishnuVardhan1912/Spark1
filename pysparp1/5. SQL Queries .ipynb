{
 "cells": [
  {
   "cell_type": "markdown",
   "id": "904a692a",
   "metadata": {},
   "source": [
    "## SQL Queries"
   ]
  },
  {
   "cell_type": "code",
   "execution_count": 1,
   "id": "1ad03800",
   "metadata": {},
   "outputs": [],
   "source": [
    "from pyspark.sql import SparkSession\n",
    "\n",
    "import findspark\n",
    "findspark.init()"
   ]
  },
  {
   "cell_type": "code",
   "execution_count": 2,
   "id": "25066b65",
   "metadata": {},
   "outputs": [],
   "source": [
    "spark = SparkSession.builder.getOrCreate()"
   ]
  },
  {
   "cell_type": "code",
   "execution_count": 5,
   "id": "ff79a720",
   "metadata": {},
   "outputs": [],
   "source": [
    "df = spark.read.csv('iris_csv.csv', header=True, inferSchema=True)"
   ]
  },
  {
   "cell_type": "code",
   "execution_count": 6,
   "id": "c74b6794",
   "metadata": {},
   "outputs": [
    {
     "name": "stdout",
     "output_type": "stream",
     "text": [
      "+------------+-----------+------------+-----------+-------+\n",
      "|sepal_length|sepal_width|petal_length|petal_width|variety|\n",
      "+------------+-----------+------------+-----------+-------+\n",
      "|         5.1|        3.5|         1.4|        0.2| Setosa|\n",
      "|         4.9|        3.0|         1.4|        0.2| Setosa|\n",
      "|         4.7|        3.2|         1.3|        0.2| Setosa|\n",
      "|         4.6|        3.1|         1.5|        0.2| Setosa|\n",
      "|         5.0|        3.6|         1.4|        0.2| Setosa|\n",
      "|         5.4|        3.9|         1.7|        0.4| Setosa|\n",
      "|         4.6|        3.4|         1.4|        0.3| Setosa|\n",
      "|         5.0|        3.4|         1.5|        0.2| Setosa|\n",
      "|         4.4|        2.9|         1.4|        0.2| Setosa|\n",
      "|         4.9|        3.1|         1.5|        0.1| Setosa|\n",
      "|         5.4|        3.7|         1.5|        0.2| Setosa|\n",
      "|         4.8|        3.4|         1.6|        0.2| Setosa|\n",
      "|         4.8|        3.0|         1.4|        0.1| Setosa|\n",
      "|         4.3|        3.0|         1.1|        0.1| Setosa|\n",
      "|         5.8|        4.0|         1.2|        0.2| Setosa|\n",
      "|         5.7|        4.4|         1.5|        0.4| Setosa|\n",
      "|         5.4|        3.9|         1.3|        0.4| Setosa|\n",
      "|         5.1|        3.5|         1.4|        0.3| Setosa|\n",
      "|         5.7|        3.8|         1.7|        0.3| Setosa|\n",
      "|         5.1|        3.8|         1.5|        0.3| Setosa|\n",
      "+------------+-----------+------------+-----------+-------+\n",
      "only showing top 20 rows\n",
      "\n"
     ]
    }
   ],
   "source": [
    "df.show()"
   ]
  },
  {
   "cell_type": "code",
   "execution_count": 7,
   "id": "c679cb47",
   "metadata": {},
   "outputs": [
    {
     "name": "stdout",
     "output_type": "stream",
     "text": [
      "root\n",
      " |-- sepal_length: double (nullable = true)\n",
      " |-- sepal_width: double (nullable = true)\n",
      " |-- petal_length: double (nullable = true)\n",
      " |-- petal_width: double (nullable = true)\n",
      " |-- variety: string (nullable = true)\n",
      "\n"
     ]
    }
   ],
   "source": [
    "df.printSchema()"
   ]
  },
  {
   "cell_type": "code",
   "execution_count": 9,
   "id": "f2b1cf00",
   "metadata": {},
   "outputs": [],
   "source": [
    "df.createOrReplaceTempView(\"df\")"
   ]
  },
  {
   "cell_type": "code",
   "execution_count": 12,
   "id": "dfcfa68a",
   "metadata": {},
   "outputs": [
    {
     "name": "stdout",
     "output_type": "stream",
     "text": [
      "+------------+-----------+------------+-----------+-------+\n",
      "|sepal_length|sepal_width|petal_length|petal_width|variety|\n",
      "+------------+-----------+------------+-----------+-------+\n",
      "|         5.1|        3.5|         1.4|        0.2| Setosa|\n",
      "|         4.9|        3.0|         1.4|        0.2| Setosa|\n",
      "|         4.7|        3.2|         1.3|        0.2| Setosa|\n",
      "|         4.6|        3.1|         1.5|        0.2| Setosa|\n",
      "|         5.0|        3.6|         1.4|        0.2| Setosa|\n",
      "|         5.4|        3.9|         1.7|        0.4| Setosa|\n",
      "|         4.6|        3.4|         1.4|        0.3| Setosa|\n",
      "|         5.0|        3.4|         1.5|        0.2| Setosa|\n",
      "|         4.4|        2.9|         1.4|        0.2| Setosa|\n",
      "|         4.9|        3.1|         1.5|        0.1| Setosa|\n",
      "|         5.4|        3.7|         1.5|        0.2| Setosa|\n",
      "|         4.8|        3.4|         1.6|        0.2| Setosa|\n",
      "|         4.8|        3.0|         1.4|        0.1| Setosa|\n",
      "|         4.3|        3.0|         1.1|        0.1| Setosa|\n",
      "|         5.8|        4.0|         1.2|        0.2| Setosa|\n",
      "|         5.7|        4.4|         1.5|        0.4| Setosa|\n",
      "|         5.4|        3.9|         1.3|        0.4| Setosa|\n",
      "|         5.1|        3.5|         1.4|        0.3| Setosa|\n",
      "|         5.7|        3.8|         1.7|        0.3| Setosa|\n",
      "|         5.1|        3.8|         1.5|        0.3| Setosa|\n",
      "+------------+-----------+------------+-----------+-------+\n",
      "only showing top 20 rows\n",
      "\n"
     ]
    }
   ],
   "source": [
    "spark.sql(\"select * from df\").show()"
   ]
  },
  {
   "cell_type": "code",
   "execution_count": 15,
   "id": "7c42ccec",
   "metadata": {},
   "outputs": [
    {
     "name": "stdout",
     "output_type": "stream",
     "text": [
      "+----------+----------------+\n",
      "|   variety|count_of_variety|\n",
      "+----------+----------------+\n",
      "| Virginica|              50|\n",
      "|    Setosa|              50|\n",
      "|Versicolor|              50|\n",
      "+----------+----------------+\n",
      "\n"
     ]
    }
   ],
   "source": [
    "spark.sql(\"select variety,count(*) as count_of_variety from df group by variety\").show()"
   ]
  },
  {
   "cell_type": "code",
   "execution_count": 17,
   "id": "5ab01ce5",
   "metadata": {},
   "outputs": [
    {
     "name": "stdout",
     "output_type": "stream",
     "text": [
      "+--------+\n",
      "|count(1)|\n",
      "+--------+\n",
      "|     150|\n",
      "+--------+\n",
      "\n"
     ]
    }
   ],
   "source": [
    "spark.sql(\"select count(*) from df\").show()"
   ]
  },
  {
   "cell_type": "code",
   "execution_count": 18,
   "id": "3c887dec",
   "metadata": {},
   "outputs": [
    {
     "name": "stdout",
     "output_type": "stream",
     "text": [
      "+----------+-----------+\n",
      "|   variety|sepal_width|\n",
      "+----------+-----------+\n",
      "|    Setosa|        2.9|\n",
      "|    Setosa|        2.3|\n",
      "|Versicolor|        2.3|\n",
      "|Versicolor|        2.8|\n",
      "|Versicolor|        2.8|\n",
      "|Versicolor|        2.4|\n",
      "|Versicolor|        2.9|\n",
      "|Versicolor|        2.7|\n",
      "|Versicolor|        2.0|\n",
      "|Versicolor|        2.2|\n",
      "|Versicolor|        2.9|\n",
      "|Versicolor|        2.9|\n",
      "|Versicolor|        2.7|\n",
      "|Versicolor|        2.2|\n",
      "|Versicolor|        2.5|\n",
      "|Versicolor|        2.8|\n",
      "|Versicolor|        2.5|\n",
      "|Versicolor|        2.8|\n",
      "|Versicolor|        2.9|\n",
      "|Versicolor|        2.8|\n",
      "+----------+-----------+\n",
      "only showing top 20 rows\n",
      "\n"
     ]
    }
   ],
   "source": [
    "spark.sql(\"select variety, sepal_width from df where sepal_width < 3\").show()"
   ]
  },
  {
   "cell_type": "code",
   "execution_count": 20,
   "id": "59850dcc",
   "metadata": {},
   "outputs": [],
   "source": [
    "sqldf = spark.sql(\"select variety, sepal_width from df where sepal_width < 3\")"
   ]
  },
  {
   "cell_type": "code",
   "execution_count": 21,
   "id": "f65ed1a9",
   "metadata": {},
   "outputs": [
    {
     "name": "stdout",
     "output_type": "stream",
     "text": [
      "+----------+-----------+\n",
      "|   variety|sepal_width|\n",
      "+----------+-----------+\n",
      "|    Setosa|        2.9|\n",
      "|    Setosa|        2.3|\n",
      "|Versicolor|        2.3|\n",
      "|Versicolor|        2.8|\n",
      "|Versicolor|        2.8|\n",
      "|Versicolor|        2.4|\n",
      "|Versicolor|        2.9|\n",
      "|Versicolor|        2.7|\n",
      "|Versicolor|        2.0|\n",
      "|Versicolor|        2.2|\n",
      "|Versicolor|        2.9|\n",
      "|Versicolor|        2.9|\n",
      "|Versicolor|        2.7|\n",
      "|Versicolor|        2.2|\n",
      "|Versicolor|        2.5|\n",
      "|Versicolor|        2.8|\n",
      "|Versicolor|        2.5|\n",
      "|Versicolor|        2.8|\n",
      "|Versicolor|        2.9|\n",
      "|Versicolor|        2.8|\n",
      "+----------+-----------+\n",
      "only showing top 20 rows\n",
      "\n"
     ]
    }
   ],
   "source": [
    "sqldf.show()"
   ]
  },
  {
   "cell_type": "code",
   "execution_count": null,
   "id": "259296db",
   "metadata": {},
   "outputs": [],
   "source": []
  }
 ],
 "metadata": {
  "kernelspec": {
   "display_name": "Python 3",
   "language": "python",
   "name": "python3"
  },
  "language_info": {
   "codemirror_mode": {
    "name": "ipython",
    "version": 3
   },
   "file_extension": ".py",
   "mimetype": "text/x-python",
   "name": "python",
   "nbconvert_exporter": "python",
   "pygments_lexer": "ipython3",
   "version": "3.8.8"
  }
 },
 "nbformat": 4,
 "nbformat_minor": 5
}
