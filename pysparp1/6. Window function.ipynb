{
 "cells": [
  {
   "cell_type": "markdown",
   "id": "cb6cc02e",
   "metadata": {},
   "source": [
    "## Window Function"
   ]
  },
  {
   "cell_type": "raw",
   "id": "37502449",
   "metadata": {},
   "source": [
    "window functions are used to carry out aggregations on a specific functions window of data and we can define the window with respect to current data\n",
    "\n",
    "window functions are similar to group by \n",
    "but there is difference group by groups every thing into one record or one row\n",
    "while window function return each record for that specific data frame"
   ]
  },
  {
   "cell_type": "code",
   "execution_count": 1,
   "id": "195ea4bc",
   "metadata": {},
   "outputs": [],
   "source": [
    "from pyspark.sql import SparkSession\n",
    "import pyspark.sql.functions as F\n",
    "from pyspark.sql import Window\n",
    "import pyspark.sql.types as T\n",
    "\n",
    "import findspark\n",
    "findspark.init()"
   ]
  },
  {
   "cell_type": "code",
   "execution_count": 2,
   "id": "8f5c977e",
   "metadata": {},
   "outputs": [],
   "source": [
    "spark = SparkSession.builder.getOrCreate()"
   ]
  },
  {
   "cell_type": "code",
   "execution_count": 3,
   "id": "45a25d99",
   "metadata": {},
   "outputs": [],
   "source": [
    "df = spark.read.csv('iris_csv.csv', header=True, inferSchema=True)"
   ]
  },
  {
   "cell_type": "code",
   "execution_count": 4,
   "id": "f981f1b7",
   "metadata": {},
   "outputs": [
    {
     "name": "stdout",
     "output_type": "stream",
     "text": [
      "+------------+-----------+------------+-----------+-------+\n",
      "|sepal_length|sepal_width|petal_length|petal_width|variety|\n",
      "+------------+-----------+------------+-----------+-------+\n",
      "|         5.1|        3.5|         1.4|        0.2| Setosa|\n",
      "|         4.9|        3.0|         1.4|        0.2| Setosa|\n",
      "|         4.7|        3.2|         1.3|        0.2| Setosa|\n",
      "|         4.6|        3.1|         1.5|        0.2| Setosa|\n",
      "|         5.0|        3.6|         1.4|        0.2| Setosa|\n",
      "|         5.4|        3.9|         1.7|        0.4| Setosa|\n",
      "|         4.6|        3.4|         1.4|        0.3| Setosa|\n",
      "|         5.0|        3.4|         1.5|        0.2| Setosa|\n",
      "|         4.4|        2.9|         1.4|        0.2| Setosa|\n",
      "|         4.9|        3.1|         1.5|        0.1| Setosa|\n",
      "|         5.4|        3.7|         1.5|        0.2| Setosa|\n",
      "|         4.8|        3.4|         1.6|        0.2| Setosa|\n",
      "|         4.8|        3.0|         1.4|        0.1| Setosa|\n",
      "|         4.3|        3.0|         1.1|        0.1| Setosa|\n",
      "|         5.8|        4.0|         1.2|        0.2| Setosa|\n",
      "|         5.7|        4.4|         1.5|        0.4| Setosa|\n",
      "|         5.4|        3.9|         1.3|        0.4| Setosa|\n",
      "|         5.1|        3.5|         1.4|        0.3| Setosa|\n",
      "|         5.7|        3.8|         1.7|        0.3| Setosa|\n",
      "|         5.1|        3.8|         1.5|        0.3| Setosa|\n",
      "+------------+-----------+------------+-----------+-------+\n",
      "only showing top 20 rows\n",
      "\n"
     ]
    }
   ],
   "source": [
    "df.show()"
   ]
  },
  {
   "cell_type": "code",
   "execution_count": 5,
   "id": "7f217d25",
   "metadata": {},
   "outputs": [
    {
     "data": {
      "text/plain": [
       "150"
      ]
     },
     "execution_count": 5,
     "metadata": {},
     "output_type": "execute_result"
    }
   ],
   "source": [
    "df.count()"
   ]
  },
  {
   "cell_type": "code",
   "execution_count": 6,
   "id": "d588feb3",
   "metadata": {},
   "outputs": [],
   "source": [
    "windowSpec = Window.partitionBy(\"variety\").orderBy(F.asc(\"sepal_length\"))\n",
    "\n",
    "data = df.withColumn(\"average_sepal_length\", F.collect_list(F.col(\"sepal_length\")).over(windowSpec)) \\\n",
    ".withColumn(\"average_sepal_width\", F.avg(F.col(\"sepal_width\")).over(windowSpec)) \\\n",
    ".withColumn(\"average_petal_length\", F.avg(F.col(\"petal_length\")).over(windowSpec)) "
   ]
  },
  {
   "cell_type": "code",
   "execution_count": 7,
   "id": "cf8ab961",
   "metadata": {},
   "outputs": [
    {
     "name": "stdout",
     "output_type": "stream",
     "text": [
      "+------------+-----------+------------+-----------+-------+--------------------+-------------------+--------------------+\n",
      "|sepal_length|sepal_width|petal_length|petal_width|variety|average_sepal_length|average_sepal_width|average_petal_length|\n",
      "+------------+-----------+------------+-----------+-------+--------------------+-------------------+--------------------+\n",
      "|         4.3|        3.0|         1.1|        0.1| Setosa|               [4.3]|                3.0|                 1.1|\n",
      "|         4.4|        2.9|         1.4|        0.2| Setosa|[4.3, 4.4, 4.4, 4.4]| 3.0250000000000004|               1.275|\n",
      "|         4.4|        3.0|         1.3|        0.2| Setosa|[4.3, 4.4, 4.4, 4.4]| 3.0250000000000004|               1.275|\n",
      "|         4.4|        3.2|         1.3|        0.2| Setosa|[4.3, 4.4, 4.4, 4.4]| 3.0250000000000004|               1.275|\n",
      "|         4.5|        2.3|         1.3|        0.3| Setosa|[4.3, 4.4, 4.4, 4...| 2.8800000000000003|  1.2799999999999998|\n",
      "|         4.6|        3.1|         1.5|        0.2| Setosa|[4.3, 4.4, 4.4, 4...|  3.077777777777778|  1.2999999999999998|\n",
      "|         4.6|        3.4|         1.4|        0.3| Setosa|[4.3, 4.4, 4.4, 4...|  3.077777777777778|  1.2999999999999998|\n",
      "|         4.6|        3.6|         1.0|        0.2| Setosa|[4.3, 4.4, 4.4, 4...|  3.077777777777778|  1.2999999999999998|\n",
      "|         4.6|        3.2|         1.4|        0.2| Setosa|[4.3, 4.4, 4.4, 4...|  3.077777777777778|  1.2999999999999998|\n",
      "|         4.7|        3.2|         1.3|        0.2| Setosa|[4.3, 4.4, 4.4, 4...|                3.1|  1.3272727272727272|\n",
      "|         4.7|        3.2|         1.6|        0.2| Setosa|[4.3, 4.4, 4.4, 4...|                3.1|  1.3272727272727272|\n",
      "|         4.8|        3.4|         1.6|        0.2| Setosa|[4.3, 4.4, 4.4, 4...|              3.125|  1.4062499999999998|\n",
      "|         4.8|        3.0|         1.4|        0.1| Setosa|[4.3, 4.4, 4.4, 4...|              3.125|  1.4062499999999998|\n",
      "|         4.8|        3.4|         1.9|        0.2| Setosa|[4.3, 4.4, 4.4, 4...|              3.125|  1.4062499999999998|\n",
      "|         4.8|        3.1|         1.6|        0.2| Setosa|[4.3, 4.4, 4.4, 4...|              3.125|  1.4062499999999998|\n",
      "|         4.8|        3.0|         1.4|        0.3| Setosa|[4.3, 4.4, 4.4, 4...|              3.125|  1.4062499999999998|\n",
      "|         4.9|        3.0|         1.4|        0.2| Setosa|[4.3, 4.4, 4.4, 4...|               3.14|  1.4149999999999996|\n",
      "|         4.9|        3.1|         1.5|        0.1| Setosa|[4.3, 4.4, 4.4, 4...|               3.14|  1.4149999999999996|\n",
      "|         4.9|        3.1|         1.5|        0.2| Setosa|[4.3, 4.4, 4.4, 4...|               3.14|  1.4149999999999996|\n",
      "|         4.9|        3.6|         1.4|        0.1| Setosa|[4.3, 4.4, 4.4, 4...|               3.14|  1.4149999999999996|\n",
      "+------------+-----------+------------+-----------+-------+--------------------+-------------------+--------------------+\n",
      "only showing top 20 rows\n",
      "\n"
     ]
    }
   ],
   "source": [
    "data.show()"
   ]
  },
  {
   "cell_type": "code",
   "execution_count": 8,
   "id": "18cf8b9d",
   "metadata": {},
   "outputs": [
    {
     "data": {
      "text/plain": [
       "150"
      ]
     },
     "execution_count": 8,
     "metadata": {},
     "output_type": "execute_result"
    }
   ],
   "source": [
    "data.count()"
   ]
  },
  {
   "cell_type": "code",
   "execution_count": 9,
   "id": "022c7cbb",
   "metadata": {},
   "outputs": [
    {
     "name": "stdout",
     "output_type": "stream",
     "text": [
      "+----------+\n",
      "|   variety|\n",
      "+----------+\n",
      "| Virginica|\n",
      "|    Setosa|\n",
      "|Versicolor|\n",
      "+----------+\n",
      "\n"
     ]
    }
   ],
   "source": [
    "df.select(\"variety\").distinct().show()"
   ]
  },
  {
   "cell_type": "code",
   "execution_count": 10,
   "id": "fa564bcf",
   "metadata": {},
   "outputs": [],
   "source": [
    "data1 = df.groupBy(\"variety\").agg(\n",
    "F.expr(\"collect_list(sepal_length)\").alias(\"sepal_length\"),\n",
    "F.expr(\"avg(sepal_length)\").alias(\"average_sepal_length\"))"
   ]
  },
  {
   "cell_type": "code",
   "execution_count": 11,
   "id": "e18061ef",
   "metadata": {},
   "outputs": [
    {
     "name": "stdout",
     "output_type": "stream",
     "text": [
      "+----------+--------------------+--------------------+\n",
      "|   variety|        sepal_length|average_sepal_length|\n",
      "+----------+--------------------+--------------------+\n",
      "| Virginica|[6.3, 5.8, 7.1, 6...|   6.587999999999998|\n",
      "|    Setosa|[5.1, 4.9, 4.7, 4...|   5.005999999999999|\n",
      "|Versicolor|[7.0, 6.4, 6.9, 5...|               5.936|\n",
      "+----------+--------------------+--------------------+\n",
      "\n"
     ]
    }
   ],
   "source": [
    "data1.show()"
   ]
  }
 ],
 "metadata": {
  "kernelspec": {
   "display_name": "Python 3",
   "language": "python",
   "name": "python3"
  },
  "language_info": {
   "codemirror_mode": {
    "name": "ipython",
    "version": 3
   },
   "file_extension": ".py",
   "mimetype": "text/x-python",
   "name": "python",
   "nbconvert_exporter": "python",
   "pygments_lexer": "ipython3",
   "version": "3.8.8"
  }
 },
 "nbformat": 4,
 "nbformat_minor": 5
}
