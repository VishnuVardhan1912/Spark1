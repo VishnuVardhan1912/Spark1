{
 "cells": [
  {
   "cell_type": "code",
   "execution_count": 1,
   "id": "8fff6f63",
   "metadata": {},
   "outputs": [],
   "source": [
    "from pyspark.sql import SparkSession\n",
    "\n",
    "import findspark\n",
    "findspark.init()"
   ]
  },
  {
   "cell_type": "code",
   "execution_count": 2,
   "id": "53a40b09",
   "metadata": {},
   "outputs": [],
   "source": [
    "spark = SparkSession.builder.getOrCreate()\n",
    "\n",
    "sc = spark.sparkContext"
   ]
  },
  {
   "cell_type": "markdown",
   "id": "cd0e53c5",
   "metadata": {},
   "source": [
    "# Spark DataFrame"
   ]
  },
  {
   "cell_type": "code",
   "execution_count": 3,
   "id": "457505b3",
   "metadata": {},
   "outputs": [
    {
     "data": {
      "text/plain": [
       "[Row(name='John', age=19),\n",
       " Row(name='Smith', age=23),\n",
       " Row(name='sarah', age=18)]"
      ]
     },
     "execution_count": 3,
     "metadata": {},
     "output_type": "execute_result"
    }
   ],
   "source": [
    "from pyspark.sql.types import Row, StructField, StructType, StringType, IntegerType\n",
    "\n",
    "# One way to create a DataFrame is to first define an RDD from a list of Rows\n",
    "\n",
    "some_rdd = sc.parallelize([Row(name='John', age=19),\n",
    "                          Row(name='Smith', age=23),\n",
    "                          Row(name='sarah', age=18)])\n",
    "\n",
    "some_rdd.collect()"
   ]
  },
  {
   "cell_type": "code",
   "execution_count": 4,
   "id": "32df6fce",
   "metadata": {},
   "outputs": [
    {
     "name": "stdout",
     "output_type": "stream",
     "text": [
      "root\n",
      " |-- name: string (nullable = true)\n",
      " |-- age: long (nullable = true)\n",
      "\n",
      "+-----+---+\n",
      "| name|age|\n",
      "+-----+---+\n",
      "| John| 19|\n",
      "|Smith| 23|\n",
      "|sarah| 18|\n",
      "+-----+---+\n",
      "\n"
     ]
    }
   ],
   "source": [
    "# The DataFrame is created from the RDD or Rows\n",
    "# Infer schema from the first row, create a DataFrame and print the schema\n",
    "\n",
    "some_df = spark.createDataFrame(some_rdd)\n",
    "some_df.printSchema()\n",
    "some_df.show()"
   ]
  },
  {
   "cell_type": "code",
   "execution_count": 5,
   "id": "cc89879e",
   "metadata": {},
   "outputs": [
    {
     "name": "stdout",
     "output_type": "stream",
     "text": [
      "<class 'pyspark.rdd.RDD'> <class 'pyspark.sql.dataframe.DataFrame'>\n",
      "+-----+---+\n",
      "| name|age|\n",
      "+-----+---+\n",
      "| John| 19|\n",
      "|Smith| 23|\n",
      "|sarah| 18|\n",
      "+-----+---+\n",
      "\n"
     ]
    }
   ],
   "source": [
    "# A dataframe is an RDD of rows plus information on the schema.\n",
    "# performing **collect()* on either the RDD or the DataFrame gives the same result.\n",
    "\n",
    "print(type(some_rdd), type(some_df))\n",
    "some_df.show()"
   ]
  },
  {
   "cell_type": "code",
   "execution_count": 6,
   "id": "ad82f615",
   "metadata": {},
   "outputs": [
    {
     "name": "stdout",
     "output_type": "stream",
     "text": [
      "root\n",
      " |-- _1: string (nullable = true)\n",
      " |-- _2: long (nullable = true)\n",
      "\n",
      "+------+------+\n",
      "|    _1|    _2|\n",
      "+------+------+\n",
      "|  Java| 20000|\n",
      "|Python|100000|\n",
      "| Scala|  3000|\n",
      "+------+------+\n",
      "\n"
     ]
    }
   ],
   "source": [
    "data = [(\"Java\", 20000), (\"Python\", 100000), (\"Scala\", 3000)]\n",
    "rdd = sc.parallelize(data)\n",
    "dfFromRDD1 = spark.createDataFrame(rdd)\n",
    "dfFromRDD1.printSchema()\n",
    "dfFromRDD1.show()"
   ]
  },
  {
   "cell_type": "code",
   "execution_count": 7,
   "id": "4433aefe",
   "metadata": {},
   "outputs": [
    {
     "name": "stdout",
     "output_type": "stream",
     "text": [
      "root\n",
      " |-- language: string (nullable = true)\n",
      " |-- users_count: long (nullable = true)\n",
      "\n",
      "+--------+-----------+\n",
      "|language|users_count|\n",
      "+--------+-----------+\n",
      "|    Java|      20000|\n",
      "|  Python|     100000|\n",
      "|   Scala|       3000|\n",
      "+--------+-----------+\n",
      "\n"
     ]
    }
   ],
   "source": [
    "dfFromRDD2 = rdd.toDF([\"language\", \"users_count\"])\n",
    "dfFromRDD2.printSchema()\n",
    "dfFromRDD2.show()"
   ]
  },
  {
   "cell_type": "code",
   "execution_count": 9,
   "id": "47bb0bc5",
   "metadata": {},
   "outputs": [
    {
     "name": "stdout",
     "output_type": "stream",
     "text": [
      "root\n",
      " |-- language: string (nullable = true)\n",
      " |-- users_count: long (nullable = true)\n",
      "\n",
      "+--------+-----------+\n",
      "|language|users_count|\n",
      "+--------+-----------+\n",
      "|    Java|      20000|\n",
      "|  Python|     100000|\n",
      "|   Scala|       3000|\n",
      "+--------+-----------+\n",
      "\n"
     ]
    }
   ],
   "source": [
    "dfFromRDD3 = spark.createDataFrame(rdd, schema = \"language string, users_count long\")\n",
    "\n",
    "dfFromRDD3.printSchema()\n",
    "dfFromRDD3.show()"
   ]
  },
  {
   "cell_type": "code",
   "execution_count": 11,
   "id": "c8715264",
   "metadata": {},
   "outputs": [
    {
     "name": "stdout",
     "output_type": "stream",
     "text": [
      "root\n",
      " |-- _1: string (nullable = true)\n",
      "\n",
      "+------+\n",
      "|    _1|\n",
      "+------+\n",
      "|  Java|\n",
      "|Python|\n",
      "| Scala|\n",
      "+------+\n",
      "\n"
     ]
    }
   ],
   "source": [
    "# To create one column\n",
    "\n",
    "data11 = [(\"Java\",), (\"Python\",), (\"Scala\",)]\n",
    "rdd11 = sc.parallelize(data11)\n",
    "dfFromRDD11 = spark.createDataFrame(rdd11)\n",
    "dfFromRDD11.printSchema()\n",
    "dfFromRDD11.show()"
   ]
  },
  {
   "cell_type": "code",
   "execution_count": 17,
   "id": "50a16daf",
   "metadata": {},
   "outputs": [
    {
     "name": "stdout",
     "output_type": "stream",
     "text": [
      "root\n",
      " |-- person_name: string (nullable = false)\n",
      " |-- person_age: integer (nullable = false)\n",
      "\n",
      "+-----------+----------+\n",
      "|person_name|person_age|\n",
      "+-----------+----------+\n",
      "|       John|        19|\n",
      "|      Smith|        23|\n",
      "|      Sarah|        18|\n",
      "+-----------+----------+\n",
      "\n"
     ]
    }
   ],
   "source": [
    "from pyspark.sql.types import Row, StructField, StructType, StringType, IntegerType\n",
    "\n",
    "# In this case we create the dataframe from an RDD of tuples (rather than rows)\n",
    "\n",
    "another_rdd = sc.parallelize([(\"John\", 19), (\"Smith\", 23), (\"Sarah\", 18)])\n",
    "\n",
    "# Schema with two fields - person_name and person_age\n",
    "\n",
    "schema = StructType([StructField(\"person_name\", StringType(), False),\n",
    "                    StructField(\"person_age\", IntegerType(), False)])\n",
    "\n",
    "# Create a DataFrame by applying the Schema to the RDD and print the schema\n",
    "\n",
    "another_df = spark.createDataFrame(another_rdd, schema)\n",
    "\n",
    "another_df.printSchema()\n",
    "another_df.show()"
   ]
  },
  {
   "cell_type": "code",
   "execution_count": 21,
   "id": "b25674af",
   "metadata": {},
   "outputs": [
    {
     "name": "stdout",
     "output_type": "stream",
     "text": [
      "+------------+-----------+------------+-----------+-------+\n",
      "|sepal_length|sepal_width|petal_length|petal_width|variety|\n",
      "+------------+-----------+------------+-----------+-------+\n",
      "|         5.1|        3.5|         1.4|        0.2| Setosa|\n",
      "|         4.9|        3.0|         1.4|        0.2| Setosa|\n",
      "|         4.7|        3.2|         1.3|        0.2| Setosa|\n",
      "|         4.6|        3.1|         1.5|        0.2| Setosa|\n",
      "|         5.0|        3.6|         1.4|        0.2| Setosa|\n",
      "|         5.4|        3.9|         1.7|        0.4| Setosa|\n",
      "|         4.6|        3.4|         1.4|        0.3| Setosa|\n",
      "|         5.0|        3.4|         1.5|        0.2| Setosa|\n",
      "|         4.4|        2.9|         1.4|        0.2| Setosa|\n",
      "|         4.9|        3.1|         1.5|        0.1| Setosa|\n",
      "|         5.4|        3.7|         1.5|        0.2| Setosa|\n",
      "|         4.8|        3.4|         1.6|        0.2| Setosa|\n",
      "|         4.8|        3.0|         1.4|        0.1| Setosa|\n",
      "|         4.3|        3.0|         1.1|        0.1| Setosa|\n",
      "|         5.8|        4.0|         1.2|        0.2| Setosa|\n",
      "|         5.7|        4.4|         1.5|        0.4| Setosa|\n",
      "|         5.4|        3.9|         1.3|        0.4| Setosa|\n",
      "|         5.1|        3.5|         1.4|        0.3| Setosa|\n",
      "|         5.7|        3.8|         1.7|        0.3| Setosa|\n",
      "|         5.1|        3.8|         1.5|        0.3| Setosa|\n",
      "+------------+-----------+------------+-----------+-------+\n",
      "only showing top 20 rows\n",
      "\n"
     ]
    }
   ],
   "source": [
    "# when loading csv files you can specify either a single file or a directory containing many csv files.\n",
    "\n",
    "iris_df = spark.read.csv(\"iris_csv.csv\", inferSchema=True, header=True)\n",
    "\n",
    "iris_df.show()"
   ]
  },
  {
   "cell_type": "code",
   "execution_count": 23,
   "id": "636cfb1d",
   "metadata": {},
   "outputs": [
    {
     "data": {
      "text/plain": [
       "[Row(sepal_length=5.1, sepal_width=3.5, petal_length=1.4, petal_width=0.2, variety='Setosa'),\n",
       " Row(sepal_length=4.9, sepal_width=3.0, petal_length=1.4, petal_width=0.2, variety='Setosa'),\n",
       " Row(sepal_length=4.7, sepal_width=3.2, petal_length=1.3, petal_width=0.2, variety='Setosa'),\n",
       " Row(sepal_length=4.6, sepal_width=3.1, petal_length=1.5, petal_width=0.2, variety='Setosa'),\n",
       " Row(sepal_length=5.0, sepal_width=3.6, petal_length=1.4, petal_width=0.2, variety='Setosa'),\n",
       " Row(sepal_length=5.4, sepal_width=3.9, petal_length=1.7, petal_width=0.4, variety='Setosa'),\n",
       " Row(sepal_length=4.6, sepal_width=3.4, petal_length=1.4, petal_width=0.3, variety='Setosa'),\n",
       " Row(sepal_length=5.0, sepal_width=3.4, petal_length=1.5, petal_width=0.2, variety='Setosa'),\n",
       " Row(sepal_length=4.4, sepal_width=2.9, petal_length=1.4, petal_width=0.2, variety='Setosa'),\n",
       " Row(sepal_length=4.9, sepal_width=3.1, petal_length=1.5, petal_width=0.1, variety='Setosa'),\n",
       " Row(sepal_length=5.4, sepal_width=3.7, petal_length=1.5, petal_width=0.2, variety='Setosa'),\n",
       " Row(sepal_length=4.8, sepal_width=3.4, petal_length=1.6, petal_width=0.2, variety='Setosa'),\n",
       " Row(sepal_length=4.8, sepal_width=3.0, petal_length=1.4, petal_width=0.1, variety='Setosa'),\n",
       " Row(sepal_length=4.3, sepal_width=3.0, petal_length=1.1, petal_width=0.1, variety='Setosa'),\n",
       " Row(sepal_length=5.8, sepal_width=4.0, petal_length=1.2, petal_width=0.2, variety='Setosa'),\n",
       " Row(sepal_length=5.7, sepal_width=4.4, petal_length=1.5, petal_width=0.4, variety='Setosa'),\n",
       " Row(sepal_length=5.4, sepal_width=3.9, petal_length=1.3, petal_width=0.4, variety='Setosa'),\n",
       " Row(sepal_length=5.1, sepal_width=3.5, petal_length=1.4, petal_width=0.3, variety='Setosa'),\n",
       " Row(sepal_length=5.7, sepal_width=3.8, petal_length=1.7, petal_width=0.3, variety='Setosa'),\n",
       " Row(sepal_length=5.1, sepal_width=3.8, petal_length=1.5, petal_width=0.3, variety='Setosa'),\n",
       " Row(sepal_length=5.4, sepal_width=3.4, petal_length=1.7, petal_width=0.2, variety='Setosa'),\n",
       " Row(sepal_length=5.1, sepal_width=3.7, petal_length=1.5, petal_width=0.4, variety='Setosa'),\n",
       " Row(sepal_length=4.6, sepal_width=3.6, petal_length=1.0, petal_width=0.2, variety='Setosa'),\n",
       " Row(sepal_length=5.1, sepal_width=3.3, petal_length=1.7, petal_width=0.5, variety='Setosa'),\n",
       " Row(sepal_length=4.8, sepal_width=3.4, petal_length=1.9, petal_width=0.2, variety='Setosa'),\n",
       " Row(sepal_length=5.0, sepal_width=3.0, petal_length=1.6, petal_width=0.2, variety='Setosa'),\n",
       " Row(sepal_length=5.0, sepal_width=3.4, petal_length=1.6, petal_width=0.4, variety='Setosa'),\n",
       " Row(sepal_length=5.2, sepal_width=3.5, petal_length=1.5, petal_width=0.2, variety='Setosa'),\n",
       " Row(sepal_length=5.2, sepal_width=3.4, petal_length=1.4, petal_width=0.2, variety='Setosa'),\n",
       " Row(sepal_length=4.7, sepal_width=3.2, petal_length=1.6, petal_width=0.2, variety='Setosa'),\n",
       " Row(sepal_length=4.8, sepal_width=3.1, petal_length=1.6, petal_width=0.2, variety='Setosa'),\n",
       " Row(sepal_length=5.4, sepal_width=3.4, petal_length=1.5, petal_width=0.4, variety='Setosa'),\n",
       " Row(sepal_length=5.2, sepal_width=4.1, petal_length=1.5, petal_width=0.1, variety='Setosa'),\n",
       " Row(sepal_length=5.5, sepal_width=4.2, petal_length=1.4, petal_width=0.2, variety='Setosa'),\n",
       " Row(sepal_length=4.9, sepal_width=3.1, petal_length=1.5, petal_width=0.2, variety='Setosa'),\n",
       " Row(sepal_length=5.0, sepal_width=3.2, petal_length=1.2, petal_width=0.2, variety='Setosa'),\n",
       " Row(sepal_length=5.5, sepal_width=3.5, petal_length=1.3, petal_width=0.2, variety='Setosa'),\n",
       " Row(sepal_length=4.9, sepal_width=3.6, petal_length=1.4, petal_width=0.1, variety='Setosa'),\n",
       " Row(sepal_length=4.4, sepal_width=3.0, petal_length=1.3, petal_width=0.2, variety='Setosa'),\n",
       " Row(sepal_length=5.1, sepal_width=3.4, petal_length=1.5, petal_width=0.2, variety='Setosa'),\n",
       " Row(sepal_length=5.0, sepal_width=3.5, petal_length=1.3, petal_width=0.3, variety='Setosa'),\n",
       " Row(sepal_length=4.5, sepal_width=2.3, petal_length=1.3, petal_width=0.3, variety='Setosa'),\n",
       " Row(sepal_length=4.4, sepal_width=3.2, petal_length=1.3, petal_width=0.2, variety='Setosa'),\n",
       " Row(sepal_length=5.0, sepal_width=3.5, petal_length=1.6, petal_width=0.6, variety='Setosa'),\n",
       " Row(sepal_length=5.1, sepal_width=3.8, petal_length=1.9, petal_width=0.4, variety='Setosa'),\n",
       " Row(sepal_length=4.8, sepal_width=3.0, petal_length=1.4, petal_width=0.3, variety='Setosa'),\n",
       " Row(sepal_length=5.1, sepal_width=3.8, petal_length=1.6, petal_width=0.2, variety='Setosa'),\n",
       " Row(sepal_length=4.6, sepal_width=3.2, petal_length=1.4, petal_width=0.2, variety='Setosa'),\n",
       " Row(sepal_length=5.3, sepal_width=3.7, petal_length=1.5, petal_width=0.2, variety='Setosa'),\n",
       " Row(sepal_length=5.0, sepal_width=3.3, petal_length=1.4, petal_width=0.2, variety='Setosa'),\n",
       " Row(sepal_length=7.0, sepal_width=3.2, petal_length=4.7, petal_width=1.4, variety='Versicolor'),\n",
       " Row(sepal_length=6.4, sepal_width=3.2, petal_length=4.5, petal_width=1.5, variety='Versicolor'),\n",
       " Row(sepal_length=6.9, sepal_width=3.1, petal_length=4.9, petal_width=1.5, variety='Versicolor'),\n",
       " Row(sepal_length=5.5, sepal_width=2.3, petal_length=4.0, petal_width=1.3, variety='Versicolor'),\n",
       " Row(sepal_length=6.5, sepal_width=2.8, petal_length=4.6, petal_width=1.5, variety='Versicolor'),\n",
       " Row(sepal_length=5.7, sepal_width=2.8, petal_length=4.5, petal_width=1.3, variety='Versicolor'),\n",
       " Row(sepal_length=6.3, sepal_width=3.3, petal_length=4.7, petal_width=1.6, variety='Versicolor'),\n",
       " Row(sepal_length=4.9, sepal_width=2.4, petal_length=3.3, petal_width=1.0, variety='Versicolor'),\n",
       " Row(sepal_length=6.6, sepal_width=2.9, petal_length=4.6, petal_width=1.3, variety='Versicolor'),\n",
       " Row(sepal_length=5.2, sepal_width=2.7, petal_length=3.9, petal_width=1.4, variety='Versicolor'),\n",
       " Row(sepal_length=5.0, sepal_width=2.0, petal_length=3.5, petal_width=1.0, variety='Versicolor'),\n",
       " Row(sepal_length=5.9, sepal_width=3.0, petal_length=4.2, petal_width=1.5, variety='Versicolor'),\n",
       " Row(sepal_length=6.0, sepal_width=2.2, petal_length=4.0, petal_width=1.0, variety='Versicolor'),\n",
       " Row(sepal_length=6.1, sepal_width=2.9, petal_length=4.7, petal_width=1.4, variety='Versicolor'),\n",
       " Row(sepal_length=5.6, sepal_width=2.9, petal_length=3.6, petal_width=1.3, variety='Versicolor'),\n",
       " Row(sepal_length=6.7, sepal_width=3.1, petal_length=4.4, petal_width=1.4, variety='Versicolor'),\n",
       " Row(sepal_length=5.6, sepal_width=3.0, petal_length=4.5, petal_width=1.5, variety='Versicolor'),\n",
       " Row(sepal_length=5.8, sepal_width=2.7, petal_length=4.1, petal_width=1.0, variety='Versicolor'),\n",
       " Row(sepal_length=6.2, sepal_width=2.2, petal_length=4.5, petal_width=1.5, variety='Versicolor'),\n",
       " Row(sepal_length=5.6, sepal_width=2.5, petal_length=3.9, petal_width=1.1, variety='Versicolor'),\n",
       " Row(sepal_length=5.9, sepal_width=3.2, petal_length=4.8, petal_width=1.8, variety='Versicolor'),\n",
       " Row(sepal_length=6.1, sepal_width=2.8, petal_length=4.0, petal_width=1.3, variety='Versicolor'),\n",
       " Row(sepal_length=6.3, sepal_width=2.5, petal_length=4.9, petal_width=1.5, variety='Versicolor'),\n",
       " Row(sepal_length=6.1, sepal_width=2.8, petal_length=4.7, petal_width=1.2, variety='Versicolor'),\n",
       " Row(sepal_length=6.4, sepal_width=2.9, petal_length=4.3, petal_width=1.3, variety='Versicolor'),\n",
       " Row(sepal_length=6.6, sepal_width=3.0, petal_length=4.4, petal_width=1.4, variety='Versicolor'),\n",
       " Row(sepal_length=6.8, sepal_width=2.8, petal_length=4.8, petal_width=1.4, variety='Versicolor'),\n",
       " Row(sepal_length=6.7, sepal_width=3.0, petal_length=5.0, petal_width=1.7, variety='Versicolor'),\n",
       " Row(sepal_length=6.0, sepal_width=2.9, petal_length=4.5, petal_width=1.5, variety='Versicolor'),\n",
       " Row(sepal_length=5.7, sepal_width=2.6, petal_length=3.5, petal_width=1.0, variety='Versicolor'),\n",
       " Row(sepal_length=5.5, sepal_width=2.4, petal_length=3.8, petal_width=1.1, variety='Versicolor'),\n",
       " Row(sepal_length=5.5, sepal_width=2.4, petal_length=3.7, petal_width=1.0, variety='Versicolor'),\n",
       " Row(sepal_length=5.8, sepal_width=2.7, petal_length=3.9, petal_width=1.2, variety='Versicolor'),\n",
       " Row(sepal_length=6.0, sepal_width=2.7, petal_length=5.1, petal_width=1.6, variety='Versicolor'),\n",
       " Row(sepal_length=5.4, sepal_width=3.0, petal_length=4.5, petal_width=1.5, variety='Versicolor'),\n",
       " Row(sepal_length=6.0, sepal_width=3.4, petal_length=4.5, petal_width=1.6, variety='Versicolor'),\n",
       " Row(sepal_length=6.7, sepal_width=3.1, petal_length=4.7, petal_width=1.5, variety='Versicolor'),\n",
       " Row(sepal_length=6.3, sepal_width=2.3, petal_length=4.4, petal_width=1.3, variety='Versicolor'),\n",
       " Row(sepal_length=5.6, sepal_width=3.0, petal_length=4.1, petal_width=1.3, variety='Versicolor'),\n",
       " Row(sepal_length=5.5, sepal_width=2.5, petal_length=4.0, petal_width=1.3, variety='Versicolor'),\n",
       " Row(sepal_length=5.5, sepal_width=2.6, petal_length=4.4, petal_width=1.2, variety='Versicolor'),\n",
       " Row(sepal_length=6.1, sepal_width=3.0, petal_length=4.6, petal_width=1.4, variety='Versicolor'),\n",
       " Row(sepal_length=5.8, sepal_width=2.6, petal_length=4.0, petal_width=1.2, variety='Versicolor'),\n",
       " Row(sepal_length=5.0, sepal_width=2.3, petal_length=3.3, petal_width=1.0, variety='Versicolor'),\n",
       " Row(sepal_length=5.6, sepal_width=2.7, petal_length=4.2, petal_width=1.3, variety='Versicolor'),\n",
       " Row(sepal_length=5.7, sepal_width=3.0, petal_length=4.2, petal_width=1.2, variety='Versicolor'),\n",
       " Row(sepal_length=5.7, sepal_width=2.9, petal_length=4.2, petal_width=1.3, variety='Versicolor'),\n",
       " Row(sepal_length=6.2, sepal_width=2.9, petal_length=4.3, petal_width=1.3, variety='Versicolor'),\n",
       " Row(sepal_length=5.1, sepal_width=2.5, petal_length=3.0, petal_width=1.1, variety='Versicolor'),\n",
       " Row(sepal_length=5.7, sepal_width=2.8, petal_length=4.1, petal_width=1.3, variety='Versicolor'),\n",
       " Row(sepal_length=6.3, sepal_width=3.3, petal_length=6.0, petal_width=2.5, variety='Virginica'),\n",
       " Row(sepal_length=5.8, sepal_width=2.7, petal_length=5.1, petal_width=1.9, variety='Virginica'),\n",
       " Row(sepal_length=7.1, sepal_width=3.0, petal_length=5.9, petal_width=2.1, variety='Virginica'),\n",
       " Row(sepal_length=6.3, sepal_width=2.9, petal_length=5.6, petal_width=1.8, variety='Virginica'),\n",
       " Row(sepal_length=6.5, sepal_width=3.0, petal_length=5.8, petal_width=2.2, variety='Virginica'),\n",
       " Row(sepal_length=7.6, sepal_width=3.0, petal_length=6.6, petal_width=2.1, variety='Virginica'),\n",
       " Row(sepal_length=4.9, sepal_width=2.5, petal_length=4.5, petal_width=1.7, variety='Virginica'),\n",
       " Row(sepal_length=7.3, sepal_width=2.9, petal_length=6.3, petal_width=1.8, variety='Virginica'),\n",
       " Row(sepal_length=6.7, sepal_width=2.5, petal_length=5.8, petal_width=1.8, variety='Virginica'),\n",
       " Row(sepal_length=7.2, sepal_width=3.6, petal_length=6.1, petal_width=2.5, variety='Virginica'),\n",
       " Row(sepal_length=6.5, sepal_width=3.2, petal_length=5.1, petal_width=2.0, variety='Virginica'),\n",
       " Row(sepal_length=6.4, sepal_width=2.7, petal_length=5.3, petal_width=1.9, variety='Virginica'),\n",
       " Row(sepal_length=6.8, sepal_width=3.0, petal_length=5.5, petal_width=2.1, variety='Virginica'),\n",
       " Row(sepal_length=5.7, sepal_width=2.5, petal_length=5.0, petal_width=2.0, variety='Virginica'),\n",
       " Row(sepal_length=5.8, sepal_width=2.8, petal_length=5.1, petal_width=2.4, variety='Virginica'),\n",
       " Row(sepal_length=6.4, sepal_width=3.2, petal_length=5.3, petal_width=2.3, variety='Virginica'),\n",
       " Row(sepal_length=6.5, sepal_width=3.0, petal_length=5.5, petal_width=1.8, variety='Virginica'),\n",
       " Row(sepal_length=7.7, sepal_width=3.8, petal_length=6.7, petal_width=2.2, variety='Virginica'),\n",
       " Row(sepal_length=7.7, sepal_width=2.6, petal_length=6.9, petal_width=2.3, variety='Virginica'),\n",
       " Row(sepal_length=6.0, sepal_width=2.2, petal_length=5.0, petal_width=1.5, variety='Virginica'),\n",
       " Row(sepal_length=6.9, sepal_width=3.2, petal_length=5.7, petal_width=2.3, variety='Virginica'),\n",
       " Row(sepal_length=5.6, sepal_width=2.8, petal_length=4.9, petal_width=2.0, variety='Virginica'),\n",
       " Row(sepal_length=7.7, sepal_width=2.8, petal_length=6.7, petal_width=2.0, variety='Virginica'),\n",
       " Row(sepal_length=6.3, sepal_width=2.7, petal_length=4.9, petal_width=1.8, variety='Virginica'),\n",
       " Row(sepal_length=6.7, sepal_width=3.3, petal_length=5.7, petal_width=2.1, variety='Virginica'),\n",
       " Row(sepal_length=7.2, sepal_width=3.2, petal_length=6.0, petal_width=1.8, variety='Virginica'),\n",
       " Row(sepal_length=6.2, sepal_width=2.8, petal_length=4.8, petal_width=1.8, variety='Virginica'),\n",
       " Row(sepal_length=6.1, sepal_width=3.0, petal_length=4.9, petal_width=1.8, variety='Virginica'),\n",
       " Row(sepal_length=6.4, sepal_width=2.8, petal_length=5.6, petal_width=2.1, variety='Virginica'),\n",
       " Row(sepal_length=7.2, sepal_width=3.0, petal_length=5.8, petal_width=1.6, variety='Virginica'),\n",
       " Row(sepal_length=7.4, sepal_width=2.8, petal_length=6.1, petal_width=1.9, variety='Virginica'),\n",
       " Row(sepal_length=7.9, sepal_width=3.8, petal_length=6.4, petal_width=2.0, variety='Virginica'),\n",
       " Row(sepal_length=6.4, sepal_width=2.8, petal_length=5.6, petal_width=2.2, variety='Virginica'),\n",
       " Row(sepal_length=6.3, sepal_width=2.8, petal_length=5.1, petal_width=1.5, variety='Virginica'),\n",
       " Row(sepal_length=6.1, sepal_width=2.6, petal_length=5.6, petal_width=1.4, variety='Virginica'),\n",
       " Row(sepal_length=7.7, sepal_width=3.0, petal_length=6.1, petal_width=2.3, variety='Virginica'),\n",
       " Row(sepal_length=6.3, sepal_width=3.4, petal_length=5.6, petal_width=2.4, variety='Virginica'),\n",
       " Row(sepal_length=6.4, sepal_width=3.1, petal_length=5.5, petal_width=1.8, variety='Virginica'),\n",
       " Row(sepal_length=6.0, sepal_width=3.0, petal_length=4.8, petal_width=1.8, variety='Virginica'),\n",
       " Row(sepal_length=6.9, sepal_width=3.1, petal_length=5.4, petal_width=2.1, variety='Virginica'),\n",
       " Row(sepal_length=6.7, sepal_width=3.1, petal_length=5.6, petal_width=2.4, variety='Virginica'),\n",
       " Row(sepal_length=6.9, sepal_width=3.1, petal_length=5.1, petal_width=2.3, variety='Virginica'),\n",
       " Row(sepal_length=5.8, sepal_width=2.7, petal_length=5.1, petal_width=1.9, variety='Virginica'),\n",
       " Row(sepal_length=6.8, sepal_width=3.2, petal_length=5.9, petal_width=2.3, variety='Virginica'),\n",
       " Row(sepal_length=6.7, sepal_width=3.3, petal_length=5.7, petal_width=2.5, variety='Virginica'),\n",
       " Row(sepal_length=6.7, sepal_width=3.0, petal_length=5.2, petal_width=2.3, variety='Virginica'),\n",
       " Row(sepal_length=6.3, sepal_width=2.5, petal_length=5.0, petal_width=1.9, variety='Virginica'),\n",
       " Row(sepal_length=6.5, sepal_width=3.0, petal_length=5.2, petal_width=2.0, variety='Virginica'),\n",
       " Row(sepal_length=6.2, sepal_width=3.4, petal_length=5.4, petal_width=2.3, variety='Virginica'),\n",
       " Row(sepal_length=5.9, sepal_width=3.0, petal_length=5.1, petal_width=1.8, variety='Virginica')]"
      ]
     },
     "execution_count": 23,
     "metadata": {},
     "output_type": "execute_result"
    }
   ],
   "source": [
    "iris_df.collect()"
   ]
  },
  {
   "cell_type": "code",
   "execution_count": 26,
   "id": "4cb337fc",
   "metadata": {},
   "outputs": [
    {
     "data": {
      "text/plain": [
       "[Row(sepal_length=5.1, sepal_width=3.5, petal_length=1.4, petal_width=0.2, variety='Setosa'),\n",
       " Row(sepal_length=4.9, sepal_width=3.0, petal_length=1.4, petal_width=0.2, variety='Setosa')]"
      ]
     },
     "execution_count": 26,
     "metadata": {},
     "output_type": "execute_result"
    }
   ],
   "source": [
    "iris_df.take(2)"
   ]
  },
  {
   "cell_type": "code",
   "execution_count": 27,
   "id": "abbd970e",
   "metadata": {},
   "outputs": [
    {
     "name": "stdout",
     "output_type": "stream",
     "text": [
      "root\n",
      " |-- sepal_length: double (nullable = true)\n",
      " |-- sepal_width: double (nullable = true)\n",
      " |-- petal_length: double (nullable = true)\n",
      " |-- petal_width: double (nullable = true)\n",
      " |-- variety: string (nullable = true)\n",
      "\n"
     ]
    }
   ],
   "source": [
    "iris_df.printSchema()"
   ]
  },
  {
   "cell_type": "code",
   "execution_count": 29,
   "id": "2f88bb8b",
   "metadata": {},
   "outputs": [
    {
     "data": {
      "text/plain": [
       "150"
      ]
     },
     "execution_count": 29,
     "metadata": {},
     "output_type": "execute_result"
    }
   ],
   "source": [
    "iris_df.count()"
   ]
  },
  {
   "cell_type": "code",
   "execution_count": 31,
   "id": "64dde85f",
   "metadata": {},
   "outputs": [
    {
     "name": "stdout",
     "output_type": "stream",
     "text": [
      "+------------+\n",
      "|sepal_length|\n",
      "+------------+\n",
      "|         5.1|\n",
      "|         4.9|\n",
      "|         4.7|\n",
      "|         4.6|\n",
      "|         5.0|\n",
      "|         5.4|\n",
      "|         4.6|\n",
      "|         5.0|\n",
      "|         4.4|\n",
      "|         4.9|\n",
      "|         5.4|\n",
      "|         4.8|\n",
      "|         4.8|\n",
      "|         4.3|\n",
      "|         5.8|\n",
      "|         5.7|\n",
      "|         5.4|\n",
      "|         5.1|\n",
      "|         5.7|\n",
      "|         5.1|\n",
      "+------------+\n",
      "only showing top 20 rows\n",
      "\n"
     ]
    }
   ],
   "source": [
    "iris_df.select(\"sepal_length\").show()"
   ]
  },
  {
   "cell_type": "code",
   "execution_count": 33,
   "id": "8e96c902",
   "metadata": {},
   "outputs": [
    {
     "data": {
      "text/plain": [
       "22"
      ]
     },
     "execution_count": 33,
     "metadata": {},
     "output_type": "execute_result"
    }
   ],
   "source": [
    "iris_df.filter(iris_df[\"sepal_length\"] < 5).count()"
   ]
  },
  {
   "cell_type": "code",
   "execution_count": 34,
   "id": "072c5b4a",
   "metadata": {},
   "outputs": [
    {
     "data": {
      "text/plain": [
       "150"
      ]
     },
     "execution_count": 34,
     "metadata": {},
     "output_type": "execute_result"
    }
   ],
   "source": [
    "iris_df.count()"
   ]
  },
  {
   "cell_type": "code",
   "execution_count": 35,
   "id": "e2a17916",
   "metadata": {},
   "outputs": [
    {
     "name": "stdout",
     "output_type": "stream",
     "text": [
      "+------------+-----------+------------+-----------+----------+\n",
      "|sepal_length|sepal_width|petal_length|petal_width|   variety|\n",
      "+------------+-----------+------------+-----------+----------+\n",
      "|         7.9|        3.8|         6.4|        2.0| Virginica|\n",
      "|         7.7|        3.8|         6.7|        2.2| Virginica|\n",
      "|         7.7|        2.8|         6.7|        2.0| Virginica|\n",
      "|         7.7|        2.6|         6.9|        2.3| Virginica|\n",
      "|         7.7|        3.0|         6.1|        2.3| Virginica|\n",
      "|         7.6|        3.0|         6.6|        2.1| Virginica|\n",
      "|         7.4|        2.8|         6.1|        1.9| Virginica|\n",
      "|         7.3|        2.9|         6.3|        1.8| Virginica|\n",
      "|         7.2|        3.2|         6.0|        1.8| Virginica|\n",
      "|         7.2|        3.6|         6.1|        2.5| Virginica|\n",
      "|         7.2|        3.0|         5.8|        1.6| Virginica|\n",
      "|         7.1|        3.0|         5.9|        2.1| Virginica|\n",
      "|         7.0|        3.2|         4.7|        1.4|Versicolor|\n",
      "|         6.9|        3.2|         5.7|        2.3| Virginica|\n",
      "|         6.9|        3.1|         4.9|        1.5|Versicolor|\n",
      "|         6.9|        3.1|         5.4|        2.1| Virginica|\n",
      "|         6.9|        3.1|         5.1|        2.3| Virginica|\n",
      "|         6.8|        2.8|         4.8|        1.4|Versicolor|\n",
      "|         6.8|        3.0|         5.5|        2.1| Virginica|\n",
      "|         6.8|        3.2|         5.9|        2.3| Virginica|\n",
      "+------------+-----------+------------+-----------+----------+\n",
      "only showing top 20 rows\n",
      "\n"
     ]
    }
   ],
   "source": [
    "iris_df.sort(\"sepal_length\", ascending = False).show()"
   ]
  },
  {
   "cell_type": "code",
   "execution_count": 36,
   "id": "b1b07b0e",
   "metadata": {},
   "outputs": [
    {
     "name": "stdout",
     "output_type": "stream",
     "text": [
      "+-------+------------------+-------------------+------------------+------------------+---------+\n",
      "|summary|      sepal_length|        sepal_width|      petal_length|       petal_width|  variety|\n",
      "+-------+------------------+-------------------+------------------+------------------+---------+\n",
      "|  count|               150|                150|               150|               150|      150|\n",
      "|   mean| 5.843333333333335|  3.057333333333334|3.7580000000000027| 1.199333333333334|     null|\n",
      "| stddev|0.8280661279778637|0.43586628493669793|1.7652982332594662|0.7622376689603467|     null|\n",
      "|    min|               4.3|                2.0|               1.0|               0.1|   Setosa|\n",
      "|    max|               7.9|                4.4|               6.9|               2.5|Virginica|\n",
      "+-------+------------------+-------------------+------------------+------------------+---------+\n",
      "\n"
     ]
    }
   ],
   "source": [
    "iris_df.describe().show()"
   ]
  },
  {
   "cell_type": "code",
   "execution_count": 37,
   "id": "d20cde88",
   "metadata": {},
   "outputs": [
    {
     "data": {
      "text/plain": [
       "['sepal_length', 'sepal_width', 'petal_length', 'petal_width', 'variety']"
      ]
     },
     "execution_count": 37,
     "metadata": {},
     "output_type": "execute_result"
    }
   ],
   "source": [
    "iris_df.columns"
   ]
  },
  {
   "cell_type": "raw",
   "id": "f94a5bd8",
   "metadata": {},
   "source": [
    "df = spark.read.json(\"sample.json\")\n",
    "df.show() --- to show the data\n",
    "df.collect() --- it returns as list of row objects\n",
    "df.take(2) --- limit the row object records\n",
    "df.printSchema() --- to print the schema of all columns\n",
    "df.count() ----  to check no of rows in a dataframe\n",
    "df.select(\"city\", \"state\").show() --- to look only 2 columns city and state\n",
    "\n",
    "# to filter based on condition\n",
    "\n",
    "df.filter(df[\"Zipcode\"]> 704).show()\n",
    "\n",
    "# Like --- it matches alphabet \n",
    "\n",
    "df.select(\"City\").filter(\"City like 'M%' \").show()\n",
    "\n",
    "# To sort based on state\n",
    "\n",
    "df.sort(\"State\").show()\\\n",
    "\n",
    "\n",
    "# For descriptive statistics\n",
    "\n",
    "df.describe().show()\n",
    "\n",
    "\n",
    "# For all column names\n",
    "\n",
    "df.columns"
   ]
  },
  {
   "cell_type": "raw",
   "id": "22e905ff",
   "metadata": {},
   "source": [
    "# For EXcEL file\n",
    "\n",
    "df = spark.read.excel(\"sample.xls\")\n",
    "\n",
    "# To write parquet file\n",
    "\n",
    "df.write.parquet(\"df.parquet_1\")\n",
    "\n",
    "# To read parquet file\n",
    "\n",
    "parquetFile = spark.read.parquet(\"df.parquet_1\")\n",
    "\n",
    "# To read Text file\n",
    "\n",
    "df = spark.read.option(\"header\", \"true\") \\\n",
    "    .option(\"delimiter\", \"\\t\") \\\n",
    "    .option(\"inferSchema\", \"true\") \\\n",
    "    .csv(\"sample.txt\")\n",
    "\n",
    "# To write csv file\n",
    "\n",
    "df.write.csv(\"iris-flower-tutorial\", header=True)\n",
    "\n",
    "# To read from Github\n",
    "\n",
    "url = \"https://gist.githubusercontent.com/netj/8836201/raw/6f9306ad21398ea43cba4f7d537619d0e07d5ae3/iris.csv\"\n",
    "\n",
    "# spark.sparkContext.addFile(url)\n",
    "# df = spark.read.csv(SparkFiles.get('iris.csv'), inferSchema=True, header=True)"
   ]
  },
  {
   "cell_type": "code",
   "execution_count": 38,
   "id": "a587fedc",
   "metadata": {},
   "outputs": [],
   "source": [
    "# df2=people_df.select(\"name\").where(people_df['name']=='Andy')\n",
    "# df2.show()"
   ]
  },
  {
   "cell_type": "code",
   "execution_count": 39,
   "id": "5efdc822",
   "metadata": {},
   "outputs": [],
   "source": [
    "# import pyspark class Row from module sql\n",
    "\n",
    "from pyspark.sql import *\n",
    "\n",
    "# Create Example Data - Departments and Employees\n",
    "\n",
    "# Create the Departments\n",
    "department1 = Row(id='123456', name='Computer Science')\n",
    "department2 = Row(id='789012', name='Mechanical Engineering')\n",
    "department3 = Row(id='345678', name='Theater and Drama')\n",
    "department4 = Row(id='901234', name='Indoor Recreation')\n",
    "\n",
    "# Create the Employees\n",
    "\n",
    "Employee = Row(\"firstName\", \"lastName\", \"email\", \"salary\")\n",
    "employee1 = Employee('michael', 'armbrust', 'no-reply@berkeley.edu', 100000)\n",
    "employee2 = Employee('xiangrui', 'meng', 'no-reply@stanford.edu', 120000)\n",
    "employee3 = Employee('matei', None, 'no-reply@waterloo.edu', 140000)\n",
    "employee4 = Employee(None, 'wendell', 'no-reply@berkeley.edu', 160000)\n",
    "employee5 = Employee('michael', 'jackson', 'no-reply@neverla.nd', 80000)\n",
    "\n",
    "# Create the DepartmentWithEmployees instances from Departments and Employees\n",
    "\n",
    "departmentWithEmployees1 = Row(department=department1, employees=[employee1, employee2])\n",
    "departmentWithEmployees2 = Row(department=department2, employees=[employee3, employee4])\n",
    "departmentWithEmployees3 = Row(department=department3, employees=[employee5, employee4])\n",
    "departmentWithEmployees4 = Row(department=department4, employees=[employee2, employee3])\n"
   ]
  },
  {
   "cell_type": "code",
   "execution_count": 41,
   "id": "a91b942e",
   "metadata": {},
   "outputs": [
    {
     "name": "stdout",
     "output_type": "stream",
     "text": [
      "+--------------------+--------------------+\n",
      "|          department|           employees|\n",
      "+--------------------+--------------------+\n",
      "|{123456, Computer...|[{michael, armbru...|\n",
      "|{789012, Mechanic...|[{matei, null, no...|\n",
      "+--------------------+--------------------+\n",
      "\n",
      "+--------------------+--------------------+\n",
      "|          department|           employees|\n",
      "+--------------------+--------------------+\n",
      "|{345678, Theater ...|[{michael, jackso...|\n",
      "|{901234, Indoor R...|[{xiangrui, meng,...|\n",
      "+--------------------+--------------------+\n",
      "\n"
     ]
    }
   ],
   "source": [
    "departmentsWithEmployeesSeq1 = [departmentWithEmployees1, departmentWithEmployees2]\n",
    "df1 = spark.createDataFrame(departmentsWithEmployeesSeq1)\n",
    "\n",
    "df1.show()\n",
    "\n",
    "departmentsWithEmployeesSeq2 = [departmentWithEmployees3, departmentWithEmployees4]\n",
    "df2 = spark.createDataFrame(departmentsWithEmployeesSeq2)\n",
    "\n",
    "df2.show()"
   ]
  },
  {
   "cell_type": "code",
   "execution_count": 42,
   "id": "2e61efcb",
   "metadata": {},
   "outputs": [
    {
     "name": "stdout",
     "output_type": "stream",
     "text": [
      "+-----------------+\n",
      "|             name|\n",
      "+-----------------+\n",
      "|Theater and Drama|\n",
      "|Indoor Recreation|\n",
      "+-----------------+\n",
      "\n"
     ]
    }
   ],
   "source": [
    "df2.select(\"department.name\").show()"
   ]
  },
  {
   "cell_type": "code",
   "execution_count": 44,
   "id": "ec5d1f22",
   "metadata": {},
   "outputs": [
    {
     "name": "stdout",
     "output_type": "stream",
     "text": [
      "+--------------------+--------------------+\n",
      "|          department|           employees|\n",
      "+--------------------+--------------------+\n",
      "|{123456, Computer...|[{michael, armbru...|\n",
      "|{789012, Mechanic...|[{matei, null, no...|\n",
      "|{345678, Theater ...|[{michael, jackso...|\n",
      "|{901234, Indoor R...|[{xiangrui, meng,...|\n",
      "+--------------------+--------------------+\n",
      "\n"
     ]
    }
   ],
   "source": [
    "unionDF = df1.union(df2)\n",
    "\n",
    "unionDF.show()"
   ]
  },
  {
   "cell_type": "code",
   "execution_count": null,
   "id": "39be6b1f",
   "metadata": {},
   "outputs": [],
   "source": []
  }
 ],
 "metadata": {
  "kernelspec": {
   "display_name": "Python 3",
   "language": "python",
   "name": "python3"
  },
  "language_info": {
   "codemirror_mode": {
    "name": "ipython",
    "version": 3
   },
   "file_extension": ".py",
   "mimetype": "text/x-python",
   "name": "python",
   "nbconvert_exporter": "python",
   "pygments_lexer": "ipython3",
   "version": "3.8.8"
  }
 },
 "nbformat": 4,
 "nbformat_minor": 5
}
